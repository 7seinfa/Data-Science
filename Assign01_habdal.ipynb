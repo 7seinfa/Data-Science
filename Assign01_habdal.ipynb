{
 "cells": [
  {
   "cell_type": "markdown",
   "metadata": {},
   "source": [
    "# Assignment 01 (100 points)\n",
    "### Learning Outcomes \n",
    "By completing this assignment, you will gain and demonstrate skills relating to\n",
    "- Working within the python and Jupyter notebook environment \n",
    "- Learning the basics of pandas’ dataframes \n",
    "- Extracting descriptive statistics from the data\n",
    "- Plot basic histograms and judge the shape of different distributions\n",
    "\n",
    "### Problem Description\n",
    "As a data scientist for a Hollywood investment company you have been charged with creating a summary of the last 250 movies so that your boss can have a deeper understanding of the movie industry. The dataset that you will be working with includes 8 different variables\n",
    "- North American box office revenue (boxoff)\n",
    "- Production cost of the movie (prodcost)\n",
    "- Income of the director (dirIncome)\n",
    "- Gender of the director (dirGender) \n",
    "- Year of release (year)\n",
    "- Month of release (month) \n",
    "- Movie genre (genre)\n",
    "- Number of theatres (numTheatres)\n",
    "\n",
    "DISCLAIMER: The data set is made up and different from last year!\n",
    "\n",
    "### General Instructions\n",
    "Unless otherwise stated,\n",
    "- You are encouraged _to use numpy, pandas, and matplotlib methods (e.g., mean, etc.).\n",
    "- Results in written answers should be rounded to 3 decimal places. \n",
    "- Before starting this assignment, it is important you go through the Installation and Assignment Instructions document.\n",
    "\n",
    "### Learning about pandas and data frames \n",
    "In this homework, you will be expected to attend the lab and also read through portions of the “Python for Data Analysis” textbook. Make sure that you familiarize yourself with Numpy (Chapter 4). Then work through the aforementioned sections in Chapters 5, 6, 8 and 9 to get the basic usage of data frames. This is a lot to read, and not everything is 100% important. Nonetheless, I encourage you to start working through the essentials. To help you not get lost, we will point you to the relevant book section for the various tasks. However, you may have to go back and read some basics if you realize that you are missing understanding on some foundational concept.  \n",
    "\n",
    "### Submit via OWL\n",
    "Please use this jupyter notbook to fill in the answers below. Before submitting, please make sure you clear the output prior to submission (Cell Menu -> All Outputs -> Clear ). Submit your notebook file under the file name YourUserID_Assign1.ipynb \n",
    "\n",
    "Make sure you attach the file to your assignment; DO NOT put the code inline in the textbox.\n",
    "Make sure that you develop your code with Python 3.7 as the interpreter. The TA will not endeavor to fix code that uses earlier versions of Python (e.g. 2.7). Make sure that your code includes all statements that it requires to work properly when calling Cell->Run All. \n",
    "\n",
    "### General Marking criteria: \n",
    "- Working code in Python 3.7 \n",
    "- Written answer in full English sentences, if required \n",
    "- For more complicated questions, show how you arrived at your answer\n",
    "- Informative variable names \n",
    "- For larger pieces of code, proper comments and explanations \n",
    "- All figures require axis labels + a caption "
   ]
  },
  {
   "cell_type": "markdown",
   "metadata": {},
   "source": [
    "## Task1: load the data into dataframe (? \\ 5 points)"
   ]
  },
  {
   "cell_type": "markdown",
   "metadata": {},
   "source": [
    "### Question1. import pandas as pd (pg.13) (? \\1 points)"
   ]
  },
  {
   "cell_type": "code",
   "execution_count": 1,
   "metadata": {},
   "outputs": [],
   "source": [
    "import pandas as pd"
   ]
  },
  {
   "cell_type": "markdown",
   "metadata": {},
   "source": [
    "### Question2. load the data file as a dataframe object (pg. 155 – 159) (? \\ 4 points)"
   ]
  },
  {
   "cell_type": "code",
   "execution_count": 2,
   "metadata": {},
   "outputs": [],
   "source": [
    "df = pd.read_csv('movieDataset.csv')"
   ]
  },
  {
   "cell_type": "markdown",
   "metadata": {},
   "source": [
    "## Task2: Understanding Pandas dataframe structure (? \\ 25 points)"
   ]
  },
  {
   "cell_type": "markdown",
   "metadata": {},
   "source": [
    "### Question1. learning how to access column names (pg. 116) (? \\ 2 points)\n",
    "Print the names of the columns in the data frame you loaded"
   ]
  },
  {
   "cell_type": "code",
   "execution_count": 3,
   "metadata": {},
   "outputs": [
    {
     "data": {
      "text/plain": [
       "Index(['Unnamed: 0', 'boxoff', 'prodcost', 'dirIncome', 'dirGender', 'year',\n",
       "       'month', 'genre', 'numTheatres'],\n",
       "      dtype='object')"
      ]
     },
     "execution_count": 3,
     "metadata": {},
     "output_type": "execute_result"
    }
   ],
   "source": [
    "df.columns"
   ]
  },
  {
   "cell_type": "markdown",
   "metadata": {},
   "source": [
    "### Question2. Retrieving a column (pg. 116) (? \\ 3 points)\n",
    "Print the data in the directorIncome column to the screen "
   ]
  },
  {
   "cell_type": "code",
   "execution_count": 4,
   "metadata": {},
   "outputs": [
    {
     "data": {
      "text/plain": [
       "0      3.393535\n",
       "1      1.134711\n",
       "2      2.418883\n",
       "3      2.034115\n",
       "4      0.963219\n",
       "         ...   \n",
       "245    3.105438\n",
       "246    1.917771\n",
       "247    2.414571\n",
       "248    2.176928\n",
       "249    2.315791\n",
       "Name: dirIncome, Length: 250, dtype: float64"
      ]
     },
     "execution_count": 4,
     "metadata": {},
     "output_type": "execute_result"
    }
   ],
   "source": [
    "df['dirIncome']"
   ]
  },
  {
   "cell_type": "markdown",
   "metadata": {},
   "source": [
    "### Question3. Retrieving a data entry (i.e. a row) (pg. 117) (? \\ 5 points)\n",
    "Print the data in the 15 row "
   ]
  },
  {
   "cell_type": "code",
   "execution_count": 5,
   "metadata": {},
   "outputs": [
    {
     "data": {
      "text/plain": [
       "Unnamed: 0             15\n",
       "boxoff         164.259719\n",
       "prodcost        35.419632\n",
       "dirIncome        0.445088\n",
       "dirGender          female\n",
       "year                 2013\n",
       "month                   5\n",
       "genre              comedy\n",
       "numTheatres         445.0\n",
       "Name: 15, dtype: object"
      ]
     },
     "execution_count": 5,
     "metadata": {},
     "output_type": "execute_result"
    }
   ],
   "source": [
    "df.iloc[15]"
   ]
  },
  {
   "cell_type": "markdown",
   "metadata": {},
   "source": [
    "### Question4. Retrieving multiple rows (pg. 125 – 128) (? \\ 4 points )\n",
    "Print the data in rows 99 to 104"
   ]
  },
  {
   "cell_type": "code",
   "execution_count": 9,
   "metadata": {},
   "outputs": [
    {
     "data": {
      "text/html": [
       "<div>\n",
       "<style scoped>\n",
       "    .dataframe tbody tr th:only-of-type {\n",
       "        vertical-align: middle;\n",
       "    }\n",
       "\n",
       "    .dataframe tbody tr th {\n",
       "        vertical-align: top;\n",
       "    }\n",
       "\n",
       "    .dataframe thead th {\n",
       "        text-align: right;\n",
       "    }\n",
       "</style>\n",
       "<table border=\"1\" class=\"dataframe\">\n",
       "  <thead>\n",
       "    <tr style=\"text-align: right;\">\n",
       "      <th></th>\n",
       "      <th>Unnamed: 0</th>\n",
       "      <th>boxoff</th>\n",
       "      <th>prodcost</th>\n",
       "      <th>dirIncome</th>\n",
       "      <th>dirGender</th>\n",
       "      <th>year</th>\n",
       "      <th>month</th>\n",
       "      <th>genre</th>\n",
       "      <th>numTheatres</th>\n",
       "    </tr>\n",
       "  </thead>\n",
       "  <tbody>\n",
       "    <tr>\n",
       "      <th>99</th>\n",
       "      <td>99</td>\n",
       "      <td>212.019583</td>\n",
       "      <td>39.953228</td>\n",
       "      <td>0.228733</td>\n",
       "      <td>male</td>\n",
       "      <td>2015</td>\n",
       "      <td>7</td>\n",
       "      <td>adventure</td>\n",
       "      <td>304.0</td>\n",
       "    </tr>\n",
       "    <tr>\n",
       "      <th>100</th>\n",
       "      <td>100</td>\n",
       "      <td>102.464505</td>\n",
       "      <td>22.785555</td>\n",
       "      <td>3.365736</td>\n",
       "      <td>male</td>\n",
       "      <td>2014</td>\n",
       "      <td>8</td>\n",
       "      <td>comedy</td>\n",
       "      <td>195.0</td>\n",
       "    </tr>\n",
       "    <tr>\n",
       "      <th>101</th>\n",
       "      <td>101</td>\n",
       "      <td>191.060229</td>\n",
       "      <td>50.967975</td>\n",
       "      <td>4.204352</td>\n",
       "      <td>male</td>\n",
       "      <td>2015</td>\n",
       "      <td>1</td>\n",
       "      <td>action</td>\n",
       "      <td>354.0</td>\n",
       "    </tr>\n",
       "    <tr>\n",
       "      <th>102</th>\n",
       "      <td>102</td>\n",
       "      <td>263.188313</td>\n",
       "      <td>83.574050</td>\n",
       "      <td>4.780653</td>\n",
       "      <td>male</td>\n",
       "      <td>2012</td>\n",
       "      <td>8</td>\n",
       "      <td>action</td>\n",
       "      <td>538.0</td>\n",
       "    </tr>\n",
       "    <tr>\n",
       "      <th>103</th>\n",
       "      <td>103</td>\n",
       "      <td>115.448968</td>\n",
       "      <td>78.839090</td>\n",
       "      <td>3.579342</td>\n",
       "      <td>male</td>\n",
       "      <td>2014</td>\n",
       "      <td>8</td>\n",
       "      <td>action</td>\n",
       "      <td>310.0</td>\n",
       "    </tr>\n",
       "    <tr>\n",
       "      <th>104</th>\n",
       "      <td>104</td>\n",
       "      <td>118.622763</td>\n",
       "      <td>140.163830</td>\n",
       "      <td>5.745664</td>\n",
       "      <td>male</td>\n",
       "      <td>2015</td>\n",
       "      <td>12</td>\n",
       "      <td>adventure</td>\n",
       "      <td>210.0</td>\n",
       "    </tr>\n",
       "  </tbody>\n",
       "</table>\n",
       "</div>"
      ],
      "text/plain": [
       "     Unnamed: 0      boxoff    prodcost  dirIncome dirGender  year  month  \\\n",
       "99           99  212.019583   39.953228   0.228733      male  2015      7   \n",
       "100         100  102.464505   22.785555   3.365736      male  2014      8   \n",
       "101         101  191.060229   50.967975   4.204352      male  2015      1   \n",
       "102         102  263.188313   83.574050   4.780653      male  2012      8   \n",
       "103         103  115.448968   78.839090   3.579342      male  2014      8   \n",
       "104         104  118.622763  140.163830   5.745664      male  2015     12   \n",
       "\n",
       "         genre  numTheatres  \n",
       "99   adventure        304.0  \n",
       "100     comedy        195.0  \n",
       "101     action        354.0  \n",
       "102     action        538.0  \n",
       "103     action        310.0  \n",
       "104  adventure        210.0  "
      ]
     },
     "execution_count": 9,
     "metadata": {},
     "output_type": "execute_result"
    }
   ],
   "source": [
    "df.iloc[99:105]"
   ]
  },
  {
   "cell_type": "markdown",
   "metadata": {},
   "source": [
    "### Question5. Retrieve the rows that meet a specific condition (pg. 126 – 127) (? \\ 7 points)\n",
    "Print the data entries where the director’s income is greater than or equal to 5 million dollars"
   ]
  },
  {
   "cell_type": "code",
   "execution_count": 11,
   "metadata": {},
   "outputs": [
    {
     "data": {
      "text/html": [
       "<div>\n",
       "<style scoped>\n",
       "    .dataframe tbody tr th:only-of-type {\n",
       "        vertical-align: middle;\n",
       "    }\n",
       "\n",
       "    .dataframe tbody tr th {\n",
       "        vertical-align: top;\n",
       "    }\n",
       "\n",
       "    .dataframe thead th {\n",
       "        text-align: right;\n",
       "    }\n",
       "</style>\n",
       "<table border=\"1\" class=\"dataframe\">\n",
       "  <thead>\n",
       "    <tr style=\"text-align: right;\">\n",
       "      <th></th>\n",
       "      <th>Unnamed: 0</th>\n",
       "      <th>boxoff</th>\n",
       "      <th>prodcost</th>\n",
       "      <th>dirIncome</th>\n",
       "      <th>dirGender</th>\n",
       "      <th>year</th>\n",
       "      <th>month</th>\n",
       "      <th>genre</th>\n",
       "      <th>numTheatres</th>\n",
       "    </tr>\n",
       "  </thead>\n",
       "  <tbody>\n",
       "    <tr>\n",
       "      <th>104</th>\n",
       "      <td>104</td>\n",
       "      <td>118.622763</td>\n",
       "      <td>140.163830</td>\n",
       "      <td>5.745664</td>\n",
       "      <td>male</td>\n",
       "      <td>2015</td>\n",
       "      <td>12</td>\n",
       "      <td>adventure</td>\n",
       "      <td>210.0</td>\n",
       "    </tr>\n",
       "    <tr>\n",
       "      <th>110</th>\n",
       "      <td>110</td>\n",
       "      <td>160.135229</td>\n",
       "      <td>94.474355</td>\n",
       "      <td>5.219081</td>\n",
       "      <td>male</td>\n",
       "      <td>2015</td>\n",
       "      <td>4</td>\n",
       "      <td>adventure</td>\n",
       "      <td>168.0</td>\n",
       "    </tr>\n",
       "    <tr>\n",
       "      <th>117</th>\n",
       "      <td>117</td>\n",
       "      <td>204.895531</td>\n",
       "      <td>147.786519</td>\n",
       "      <td>5.029115</td>\n",
       "      <td>male</td>\n",
       "      <td>2012</td>\n",
       "      <td>12</td>\n",
       "      <td>action</td>\n",
       "      <td>262.0</td>\n",
       "    </tr>\n",
       "    <tr>\n",
       "      <th>153</th>\n",
       "      <td>153</td>\n",
       "      <td>113.908214</td>\n",
       "      <td>14.661172</td>\n",
       "      <td>5.058337</td>\n",
       "      <td>male</td>\n",
       "      <td>2015</td>\n",
       "      <td>10</td>\n",
       "      <td>other</td>\n",
       "      <td>212.0</td>\n",
       "    </tr>\n",
       "    <tr>\n",
       "      <th>159</th>\n",
       "      <td>159</td>\n",
       "      <td>142.697967</td>\n",
       "      <td>126.748095</td>\n",
       "      <td>5.499477</td>\n",
       "      <td>male</td>\n",
       "      <td>2012</td>\n",
       "      <td>11</td>\n",
       "      <td>action</td>\n",
       "      <td>383.0</td>\n",
       "    </tr>\n",
       "    <tr>\n",
       "      <th>189</th>\n",
       "      <td>189</td>\n",
       "      <td>211.971373</td>\n",
       "      <td>96.262110</td>\n",
       "      <td>5.277638</td>\n",
       "      <td>male</td>\n",
       "      <td>2015</td>\n",
       "      <td>12</td>\n",
       "      <td>adventure</td>\n",
       "      <td>568.0</td>\n",
       "    </tr>\n",
       "    <tr>\n",
       "      <th>227</th>\n",
       "      <td>227</td>\n",
       "      <td>244.326897</td>\n",
       "      <td>52.699310</td>\n",
       "      <td>5.804698</td>\n",
       "      <td>male</td>\n",
       "      <td>2013</td>\n",
       "      <td>12</td>\n",
       "      <td>comedy</td>\n",
       "      <td>610.0</td>\n",
       "    </tr>\n",
       "    <tr>\n",
       "      <th>239</th>\n",
       "      <td>239</td>\n",
       "      <td>391.434752</td>\n",
       "      <td>75.710045</td>\n",
       "      <td>5.875102</td>\n",
       "      <td>male</td>\n",
       "      <td>2015</td>\n",
       "      <td>8</td>\n",
       "      <td>action</td>\n",
       "      <td>802.0</td>\n",
       "    </tr>\n",
       "  </tbody>\n",
       "</table>\n",
       "</div>"
      ],
      "text/plain": [
       "     Unnamed: 0      boxoff    prodcost  dirIncome dirGender  year  month  \\\n",
       "104         104  118.622763  140.163830   5.745664      male  2015     12   \n",
       "110         110  160.135229   94.474355   5.219081      male  2015      4   \n",
       "117         117  204.895531  147.786519   5.029115      male  2012     12   \n",
       "153         153  113.908214   14.661172   5.058337      male  2015     10   \n",
       "159         159  142.697967  126.748095   5.499477      male  2012     11   \n",
       "189         189  211.971373   96.262110   5.277638      male  2015     12   \n",
       "227         227  244.326897   52.699310   5.804698      male  2013     12   \n",
       "239         239  391.434752   75.710045   5.875102      male  2015      8   \n",
       "\n",
       "         genre  numTheatres  \n",
       "104  adventure        210.0  \n",
       "110  adventure        168.0  \n",
       "117     action        262.0  \n",
       "153      other        212.0  \n",
       "159     action        383.0  \n",
       "189  adventure        568.0  \n",
       "227     comedy        610.0  \n",
       "239     action        802.0  "
      ]
     },
     "execution_count": 11,
     "metadata": {},
     "output_type": "execute_result"
    }
   ],
   "source": [
    "df.loc[df.dirIncome>=5]"
   ]
  },
  {
   "cell_type": "markdown",
   "metadata": {},
   "source": [
    "### Question6. creating a new column (pg. 128 – 129 and pg. 261) (? \\ 4 points)\n",
    "Add a new column to the dataframe (profit). This column should be the total box office income minus the production cost."
   ]
  },
  {
   "cell_type": "code",
   "execution_count": 14,
   "metadata": {},
   "outputs": [],
   "source": [
    "df['profit'] = df.boxoff-df.prodcost"
   ]
  },
  {
   "cell_type": "markdown",
   "metadata": {},
   "source": [
    "## Task3: Descriptive statistics (? \\ 40 points)"
   ]
  },
  {
   "cell_type": "markdown",
   "metadata": {},
   "source": [
    "### Question1. For the director Income column, print the median, mean, minimal value and maximal value (? \\ 16 points)"
   ]
  },
  {
   "cell_type": "markdown",
   "metadata": {},
   "source": [
    "#### median for directorIncome column (? \\ 4 points)"
   ]
  },
  {
   "cell_type": "code",
   "execution_count": 15,
   "metadata": {},
   "outputs": [
    {
     "data": {
      "text/plain": [
       "1.950844833985145"
      ]
     },
     "execution_count": 15,
     "metadata": {},
     "output_type": "execute_result"
    }
   ],
   "source": [
    "df.dirIncome.median()"
   ]
  },
  {
   "cell_type": "markdown",
   "metadata": {},
   "source": [
    "#### mean for directorIncome column (? \\ 4 points)"
   ]
  },
  {
   "cell_type": "code",
   "execution_count": 16,
   "metadata": {},
   "outputs": [
    {
     "data": {
      "text/plain": [
       "2.1282219455941407"
      ]
     },
     "execution_count": 16,
     "metadata": {},
     "output_type": "execute_result"
    }
   ],
   "source": [
    "df.dirIncome.mean()"
   ]
  },
  {
   "cell_type": "markdown",
   "metadata": {},
   "source": [
    "#### minimum for directorIncome column (? \\ 4 points)"
   ]
  },
  {
   "cell_type": "code",
   "execution_count": 17,
   "metadata": {},
   "outputs": [
    {
     "data": {
      "text/plain": [
       "0.2287332260825104"
      ]
     },
     "execution_count": 17,
     "metadata": {},
     "output_type": "execute_result"
    }
   ],
   "source": [
    "df.dirIncome.min()"
   ]
  },
  {
   "cell_type": "markdown",
   "metadata": {},
   "source": [
    "#### maximum dor directorIncome column (? \\ 4 points)"
   ]
  },
  {
   "cell_type": "code",
   "execution_count": 18,
   "metadata": {},
   "outputs": [
    {
     "data": {
      "text/plain": [
       "5.875101572481936"
      ]
     },
     "execution_count": 18,
     "metadata": {},
     "output_type": "execute_result"
    }
   ],
   "source": [
    "df.dirIncome.max()"
   ]
  },
  {
   "cell_type": "markdown",
   "metadata": {},
   "source": [
    "### Question2. Written answer: From these values, what can you guess about the Skewness of the distribution? Justify your answer (? \\ 8 points)"
   ]
  },
  {
   "cell_type": "markdown",
   "metadata": {},
   "source": [
    "> I can guess that the distribution is right skewed, as the mean is greater than the median. In addition, the mean and median are both closer to the minimum than the maximum, meaning the right tail is longer."
   ]
  },
  {
   "cell_type": "markdown",
   "metadata": {},
   "source": [
    "### Question3. Print out the data for the movie that has the highest box-office income (? \\ 16 points)\n",
    "(Hint: you may first have to determine the maximum value in the box-office column and then use retrieval strategies to print out all the data)"
   ]
  },
  {
   "cell_type": "code",
   "execution_count": 19,
   "metadata": {},
   "outputs": [
    {
     "data": {
      "text/html": [
       "<div>\n",
       "<style scoped>\n",
       "    .dataframe tbody tr th:only-of-type {\n",
       "        vertical-align: middle;\n",
       "    }\n",
       "\n",
       "    .dataframe tbody tr th {\n",
       "        vertical-align: top;\n",
       "    }\n",
       "\n",
       "    .dataframe thead th {\n",
       "        text-align: right;\n",
       "    }\n",
       "</style>\n",
       "<table border=\"1\" class=\"dataframe\">\n",
       "  <thead>\n",
       "    <tr style=\"text-align: right;\">\n",
       "      <th></th>\n",
       "      <th>Unnamed: 0</th>\n",
       "      <th>boxoff</th>\n",
       "      <th>prodcost</th>\n",
       "      <th>dirIncome</th>\n",
       "      <th>dirGender</th>\n",
       "      <th>year</th>\n",
       "      <th>month</th>\n",
       "      <th>genre</th>\n",
       "      <th>numTheatres</th>\n",
       "      <th>profit</th>\n",
       "    </tr>\n",
       "  </thead>\n",
       "  <tbody>\n",
       "    <tr>\n",
       "      <th>172</th>\n",
       "      <td>172</td>\n",
       "      <td>465.247739</td>\n",
       "      <td>109.604718</td>\n",
       "      <td>2.303829</td>\n",
       "      <td>male</td>\n",
       "      <td>2014</td>\n",
       "      <td>12</td>\n",
       "      <td>action</td>\n",
       "      <td>523.0</td>\n",
       "      <td>355.643022</td>\n",
       "    </tr>\n",
       "  </tbody>\n",
       "</table>\n",
       "</div>"
      ],
      "text/plain": [
       "     Unnamed: 0      boxoff    prodcost  dirIncome dirGender  year  month  \\\n",
       "172         172  465.247739  109.604718   2.303829      male  2014     12   \n",
       "\n",
       "      genre  numTheatres      profit  \n",
       "172  action        523.0  355.643022  "
      ]
     },
     "execution_count": 19,
     "metadata": {},
     "output_type": "execute_result"
    }
   ],
   "source": [
    "df.loc[df.boxoff==df.boxoff.max()]"
   ]
  },
  {
   "cell_type": "markdown",
   "metadata": {},
   "source": [
    "## Task 4: plotting histograms and boxplots (? \\ 30 points)\n",
    "### Preliminaries\n",
    "In order to set up your notebook environment so it includes figures inline write the following code:"
   ]
  },
  {
   "cell_type": "code",
   "execution_count": 20,
   "metadata": {},
   "outputs": [],
   "source": [
    "import matplotlib\n",
    "matplotlib.use('TkAgg')\n",
    "import matplotlib.pyplot as plt\n",
    "%matplotlib inline\n"
   ]
  },
  {
   "cell_type": "markdown",
   "metadata": {},
   "source": [
    "### Question1. Create a histogram of director Income (pgs. 238 – 239). Choose the number of bins so that the plot is informative. (? / 10 points)\n",
    "\n",
    "Written response: Justify why you chose this number."
   ]
  },
  {
   "cell_type": "code",
   "execution_count": 28,
   "metadata": {},
   "outputs": [
    {
     "data": {
      "text/plain": [
       "<AxesSubplot:>"
      ]
     },
     "execution_count": 28,
     "metadata": {},
     "output_type": "execute_result"
    },
    {
     "data": {
      "image/png": "[encoded data removed]",
      "text/plain": [
       "<Figure size 432x288 with 1 Axes>"
      ]
     },
     "metadata": {
      "needs_background": "light"
     },
     "output_type": "display_data"
    }
   ],
   "source": [
    "df.dirIncome.hist(bins=25)"
   ]
  },
  {
   "cell_type": "markdown",
   "metadata": {},
   "source": [
    "> I chose 25 bins. Since the maximum was about 6 million, I wanted to create ranges of about 0.25 million each (instead got 0.24 million each), as it is useful to know, e.g., how close the funding was to 2 million or 3 million. Any more gets very redundant, and any less doesn't provide enough information, as if a bar goes from 1 to 2 million, one is left confused on whether it is closer to two or one. This graph is easy to follow, and provides details, such as the most costing around 1.25 million, but it's not so cluttered that you can't extract data."
   ]
  },
  {
   "cell_type": "markdown",
   "metadata": {},
   "source": [
    "### Question2. Create a boxplot of director Income (plt.boxplot) (? \\ 6 points)"
   ]
  },
  {
   "cell_type": "code",
   "execution_count": 30,
   "metadata": {},
   "outputs": [
    {
     "data": {
      "text/plain": [
       "{'whiskers': [<matplotlib.lines.Line2D at 0x24501aed7c0>,\n",
       "  <matplotlib.lines.Line2D at 0x24501aeda90>],\n",
       " 'caps': [<matplotlib.lines.Line2D at 0x24501aede20>,\n",
       "  <matplotlib.lines.Line2D at 0x24501aff1f0>],\n",
       " 'boxes': [<matplotlib.lines.Line2D at 0x24501aed370>],\n",
       " 'medians': [<matplotlib.lines.Line2D at 0x24501aff580>],\n",
       " 'fliers': [<matplotlib.lines.Line2D at 0x24501aff910>],\n",
       " 'means': []}"
      ]
     },
     "execution_count": 30,
     "metadata": {},
     "output_type": "execute_result"
    },
    {
     "data": {
      "image/png": "[encoded data removed]",
      "text/plain": [
       "<Figure size 432x288 with 1 Axes>"
      ]
     },
     "metadata": {
      "needs_background": "light"
     },
     "output_type": "display_data"
    }
   ],
   "source": [
    "plt.boxplot(df.dirIncome)"
   ]
  },
  {
   "cell_type": "markdown",
   "metadata": {},
   "source": [
    "### Question3. Create a violinplot of director income (plt.violinplot) (? \\ 6 points )"
   ]
  },
  {
   "cell_type": "code",
   "execution_count": 31,
   "metadata": {},
   "outputs": [
    {
     "data": {
      "text/plain": [
       "{'bodies': [<matplotlib.collections.PolyCollection at 0x24501b5b1c0>],\n",
       " 'cmaxes': <matplotlib.collections.LineCollection at 0x24501b0ccd0>,\n",
       " 'cmins': <matplotlib.collections.LineCollection at 0x24501b5b760>,\n",
       " 'cbars': <matplotlib.collections.LineCollection at 0x24501b5ba90>}"
      ]
     },
     "execution_count": 31,
     "metadata": {},
     "output_type": "execute_result"
    },
    {
     "data": {
      "image/png": "[encoded data removed]",
      "text/plain": [
       "<Figure size 432x288 with 1 Axes>"
      ]
     },
     "metadata": {
      "needs_background": "light"
     },
     "output_type": "display_data"
    }
   ],
   "source": [
    "plt.violinplot(df.dirIncome)"
   ]
  },
  {
   "cell_type": "markdown",
   "metadata": {},
   "source": [
    "### Question4. written response: From the three graphs, describe the distribution of director income in terms of range, skewness, and outliers. Which visualization shows which aspects best? (? \\ 8 points)"
   ]
  },
  {
   "cell_type": "markdown",
   "metadata": {},
   "source": [
    "> The distribution is right/positively skewed, and ranged from about 0.25 million to 6 million. The interquartile range is about 1.3 million to 2.75 million, and there are multiple outliers on the positive end, above the Q3 + 1.5 x IQR maximum at about 4.8 million. The range is best shown in the violin plot, but more details about the range and outliers is best shown in the box plot. The skewness is best seen in the histogram, as well as more details as per where most data lies."
   ]
  }
 ],
 "metadata": {
  "kernelspec": {
   "display_name": "Python 3 (ipykernel)",
   "language": "python",
   "name": "python3"
  },
  "language_info": {
   "codemirror_mode": {
    "name": "ipython",
    "version": 3
   },
   "file_extension": ".py",
   "mimetype": "text/x-python",
   "name": "python",
   "nbconvert_exporter": "python",
   "pygments_lexer": "ipython3",
   "version": "3.9.7"
  }
 },
 "nbformat": 4,
 "nbformat_minor": 2
}
