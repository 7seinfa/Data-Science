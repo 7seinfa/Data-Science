{
 "cells": [
  {
   "cell_type": "markdown",
   "metadata": {},
   "source": [
    "# Assignment 2\n",
    "### Learning Outcomes \n",
    "By completing this assignment, you will gain and demonstrate skills relating to \n",
    "- working within the python environment  \n",
    "- visualizing of numerical data continued \n",
    "- tabulation and plotting of discrete data \n",
    "- Calculating joint, marginal, and conditional probabilities  \n",
    "- Summarizing and plotting numerical data by group \n",
    "\n",
    "### Problem Description\n",
    "As a data scientist for a Hollywood investment company you have been charged with creating a summary of the last 250 movies so that your boss can have a deeper understanding of the movie industry. The dataset that you will be working with includes 8 different variables: \n",
    "- North American box office revenue  \n",
    "- Cost to produce the movie \n",
    "- Income of the director \n",
    "- Gender of the director \n",
    "- Year of release \n",
    "- Month of release \n",
    "- Movie genre \n",
    "- Number of theaters at release \n",
    "\n",
    "Unless otherwise stated, you are encouraged to use numpy, pandas, and matplotlib methods (e.g., mean, etc.). \n",
    "\n",
    "In this homework, you are expected to read portions of the Python for Data Analysis textbook. To help you not get lost, we will point you to the relevant book section for the various tasks. However, you may have to go back and read some basics if you realize that you are missing understanding on some foundational concept. \n",
    "\n",
    "### Overview of plotting (pg. 219-240)\n",
    "Read pages 219 to 231 in the Python for Data Analysis book. While we do not assign a specific task, the knowledge gained here will help in completing the tasks in the rest of this homework. In addition, step through this https://nbviewer.jupyter.org/github/jrjohansson/scientific-python-lectures/blob/master/Lecture-4-Matplotlib.ipynb. It is suggested that you download the notebook and run it locally to fully benefit from the tutorial.  \n",
    "\n",
    "### Submit via OWL\n",
    "Use the jupyter notebook provided and fill in your answer in the code cells. Before submitting, please make sure you clear the output prior to submission (Cell Menu -> All Outputs -> Clear ). Submit your notebook file under the file name YourUserID_Assign1.ipynb \n",
    "\n",
    "Make sure that you develop your code with Python 3.7 as the interpreter. The TA will not endeavor to fix code that uses earlier versions of Python (e.g. 2.7). Make sure that your code includes all statements that it requires to work properly when calling Cell->Run All. \n",
    "\n",
    "### General Marking criteria: \n",
    "- Does the program behave according to specifications?\n",
    "- Are you using appropriate data structures?\n",
    "- Is the output according to specifications?\n",
    "- Are all questions answered fully? Written responses must be answered in full English sentences.\n",
    "- Comments for pieces of code that are longer than few line \n",
    "- All figures require axis labels + a caption\n",
    "- Use Python coding conventions and good programming techniques, for example:\n",
    "    * meaningful variable names\n",
    "    * conventions for naming variables and constants\n",
    "    * Use of constants where appropriate\n",
    "    * Readability: indention, white space, consistency."
   ]
  },
  {
   "cell_type": "markdown",
   "metadata": {},
   "source": [
    "## Task 1: Plotting histograms II (Subplots) (? / 15 points)\n",
    "In order to set up your notebook environment so it includes figures inline write the following code <br>\n",
    "\n",
    "import matplotlib <br>\n",
    "matplotlib.use('TkAgg') <br>\n",
    "import matplotlib.pyplot as plt <br> \n",
    "%matplotlib inline <br>"
   ]
  },
  {
   "cell_type": "code",
   "execution_count": 1,
   "metadata": {},
   "outputs": [],
   "source": [
    "import pandas as pd\n",
    "import matplotlib\n",
    "matplotlib.use('TkAgg')\n",
    "import matplotlib.pyplot as plt\n",
    "%matplotlib inline"
   ]
  },
  {
   "cell_type": "markdown",
   "metadata": {},
   "source": [
    "### Question1. Load the movieDataset and calculate the new column \"profit\" as in the previous assignment (? / 2 points)"
   ]
  },
  {
   "cell_type": "code",
   "execution_count": 2,
   "metadata": {},
   "outputs": [],
   "source": [
    "df = pd.read_csv('movieDataset.csv')\n",
    "df['profit'] = df.boxoff-df.prodcost"
   ]
  },
  {
   "cell_type": "markdown",
   "metadata": {},
   "source": [
    "### Question2. Generate a new figure with an array of 6 subplots (2 rows and 3 columns recommended, see pages 220-223). In the subplots, provide a histogram for the variables boxoff, prodcost,  dirIncome, release month, year released, profit. For each variable, choose an appropriate number of bins (? / 4 points)"
   ]
  },
  {
   "cell_type": "code",
   "execution_count": 3,
   "metadata": {},
   "outputs": [
    {
     "data": {
      "text/plain": [
       "(array([ 1.,  1.,  2.,  6., 15., 45., 48., 34., 34., 23., 20.,  8.,  7.,\n",
       "         3.,  3.]),\n",
       " array([-122.02942324,  -89.5751446 ,  -57.12086596,  -24.66658732,\n",
       "           7.78769132,   40.24196997,   72.69624861,  105.15052725,\n",
       "         137.60480589,  170.05908453,  202.51336317,  234.96764181,\n",
       "         267.42192045,  299.87619909,  332.33047773,  364.78475638]),\n",
       " <BarContainer object of 15 artists>)"
      ]
     },
     "execution_count": 3,
     "metadata": {},
     "output_type": "execute_result"
    },
    {
     "data": {
      "image/png": "[encoded data removed]",
      "text/plain": [
       "<Figure size 432x288 with 6 Axes>"
      ]
     },
     "metadata": {
      "needs_background": "light"
     },
     "output_type": "display_data"
    }
   ],
   "source": [
    "fig = plt.figure()\n",
    "ax1 = fig.add_subplot(2, 3, 1)\n",
    "plt.hist(df['boxoff'], bins=10)\n",
    "ax2 = fig.add_subplot(2, 3, 2)\n",
    "plt.hist(df['prodcost'], bins=8)\n",
    "ax3 = fig.add_subplot(2, 3, 3)\n",
    "plt.hist(df['dirIncome'], bins=12)\n",
    "ax4 = fig.add_subplot(2, 3, 4)\n",
    "plt.hist(df['month'], bins=12)\n",
    "ax5 = fig.add_subplot(2, 3, 5)\n",
    "plt.hist(df['year'], bins=4)\n",
    "ax6 = fig.add_subplot(2, 3, 6)\n",
    "plt.hist(df['profit'], bins=15)\n"
   ]
  },
  {
   "cell_type": "markdown",
   "metadata": {},
   "source": [
    "### Question 3. Written response: Justify the number of bins chosen for each variable. ( ? / 3 points)"
   ]
  },
  {
   "cell_type": "markdown",
   "metadata": {},
   "source": [
    "> boxoff: chose 10 so it's divided into about 50/bar which is visible and useful to know, and clearly shows its shape\n",
    "> prodcost: chose 8 so it's divided into about 25/bar which is about as much info as you need and extremely visible, and still has enough bars to show shape\n",
    "> dirIncome: chose 12 so it's divided by 0.5 as this is easy to view and also provides significant information\n",
    "> month: divided by 12 just so you can see each month\n",
    "> year: divided by 4 just to see each year\n",
    "> profit: divided by 15 as it shows shape well and gives significant info about the profit"
   ]
  },
  {
   "cell_type": "markdown",
   "metadata": {},
   "source": [
    "### Question 4: Describe the shape of the distribution for each variable, including the number of modes and the shape (symmetric, skew, uniform?).  (? / 6 points)"
   ]
  },
  {
   "cell_type": "markdown",
   "metadata": {},
   "source": [
    "> boxoff: right skewed, one mode\n",
    "> prodcost: right skewed, one mode\n",
    "> dirIncome: right skewed, one mode\n",
    "> month: no shape, possibly 2 modes (summer and december)\n",
    "> year: uniform, no modes\n",
    "> profit: symmetric, one mode"
   ]
  },
  {
   "cell_type": "markdown",
   "metadata": {},
   "source": [
    "## Task 2: Tabulating and visualizing categorical data (pg. 24-30 and pg 250-256) (? / 20 points)"
   ]
  },
  {
   "cell_type": "markdown",
   "metadata": {},
   "source": [
    "### Question1. Create a contingency table of director gender (rows) by genre (columns) without the marginal sums. You may normalize the table by rows or columns. Print to the screen. (? / 4 points)"
   ]
  },
  {
   "cell_type": "code",
   "execution_count": 4,
   "metadata": {},
   "outputs": [
    {
     "data": {
      "text/html": [
       "<div>\n",
       "<style scoped>\n",
       "    .dataframe tbody tr th:only-of-type {\n",
       "        vertical-align: middle;\n",
       "    }\n",
       "\n",
       "    .dataframe tbody tr th {\n",
       "        vertical-align: top;\n",
       "    }\n",
       "\n",
       "    .dataframe thead th {\n",
       "        text-align: right;\n",
       "    }\n",
       "</style>\n",
       "<table border=\"1\" class=\"dataframe\">\n",
       "  <thead>\n",
       "    <tr style=\"text-align: right;\">\n",
       "      <th>genre</th>\n",
       "      <th>action</th>\n",
       "      <th>adventure</th>\n",
       "      <th>comedy</th>\n",
       "      <th>drama</th>\n",
       "      <th>other</th>\n",
       "    </tr>\n",
       "    <tr>\n",
       "      <th>dirGender</th>\n",
       "      <th></th>\n",
       "      <th></th>\n",
       "      <th></th>\n",
       "      <th></th>\n",
       "      <th></th>\n",
       "    </tr>\n",
       "  </thead>\n",
       "  <tbody>\n",
       "    <tr>\n",
       "      <th>female</th>\n",
       "      <td>9</td>\n",
       "      <td>6</td>\n",
       "      <td>13</td>\n",
       "      <td>5</td>\n",
       "      <td>4</td>\n",
       "    </tr>\n",
       "    <tr>\n",
       "      <th>male</th>\n",
       "      <td>48</td>\n",
       "      <td>58</td>\n",
       "      <td>35</td>\n",
       "      <td>31</td>\n",
       "      <td>41</td>\n",
       "    </tr>\n",
       "  </tbody>\n",
       "</table>\n",
       "</div>"
      ],
      "text/plain": [
       "genre      action  adventure  comedy  drama  other\n",
       "dirGender                                         \n",
       "female          9          6      13      5      4\n",
       "male           48         58      35     31     41"
      ]
     },
     "metadata": {},
     "output_type": "display_data"
    }
   ],
   "source": [
    "ct = pd.crosstab(df['dirGender'],df['genre'])\n",
    "display(ct)"
   ]
  },
  {
   "cell_type": "markdown",
   "metadata": {},
   "source": [
    "### Question2. Plot the genre counts by director gender as a grouped bar chart (? / 3 points)"
   ]
  },
  {
   "cell_type": "code",
   "execution_count": 5,
   "metadata": {},
   "outputs": [
    {
     "data": {
      "text/plain": [
       "<AxesSubplot:xlabel='dirGender'>"
      ]
     },
     "execution_count": 5,
     "metadata": {},
     "output_type": "execute_result"
    },
    {
     "data": {
      "image/png": "[encoded data removed]",
      "text/plain": [
       "<Figure size 432x288 with 1 Axes>"
      ]
     },
     "metadata": {
      "needs_background": "light"
     },
     "output_type": "display_data"
    }
   ],
   "source": [
    "ct.plot.bar()"
   ]
  },
  {
   "cell_type": "markdown",
   "metadata": {},
   "source": [
    "### Question3. Make a Figure with 2 subplots. Plot the genre counts by director gender as a grouped barplot in one subplot, and as a stacked bar chart in the other subplot. (? / 3 points)"
   ]
  },
  {
   "cell_type": "code",
   "execution_count": 6,
   "metadata": {},
   "outputs": [
    {
     "data": {
      "text/plain": [
       "Text(0, 0.5, 'Number of Movies')"
      ]
     },
     "execution_count": 6,
     "metadata": {},
     "output_type": "execute_result"
    },
    {
     "data": {
      "image/png": "[encoded data removed]",
      "text/plain": [
       "<Figure size 720x360 with 2 Axes>"
      ]
     },
     "metadata": {
      "needs_background": "light"
     },
     "output_type": "display_data"
    }
   ],
   "source": [
    "fig1, ax = plt.subplots(nrows=1,ncols=2,figsize=(10,5))\n",
    "ct.plot.bar(ax=ax[0])\n",
    "ax[0].set_xlabel('Director Gender')\n",
    "ax[0].set_ylabel('Number of Movies')\n",
    "ct.plot.bar(ax=ax[1], stacked=True)\n",
    "ax[1].set_xlabel('Director Gender')\n",
    "ax[1].set_ylabel('Number of Movies')"
   ]
  },
  {
   "cell_type": "markdown",
   "metadata": {},
   "source": [
    "### Question4. Generate a table of director Gender (rows) and genre (columns), normalized by the row-marginal counts of male and female director, such that you have conditional probabilities of movie genre, given the gender of the director. Print the table and make a stacked barplot. (? / 3 points)"
   ]
  },
  {
   "cell_type": "code",
   "execution_count": 7,
   "metadata": {},
   "outputs": [
    {
     "data": {
      "text/html": [
       "<div>\n",
       "<style scoped>\n",
       "    .dataframe tbody tr th:only-of-type {\n",
       "        vertical-align: middle;\n",
       "    }\n",
       "\n",
       "    .dataframe tbody tr th {\n",
       "        vertical-align: top;\n",
       "    }\n",
       "\n",
       "    .dataframe thead th {\n",
       "        text-align: right;\n",
       "    }\n",
       "</style>\n",
       "<table border=\"1\" class=\"dataframe\">\n",
       "  <thead>\n",
       "    <tr style=\"text-align: right;\">\n",
       "      <th>genre</th>\n",
       "      <th>action</th>\n",
       "      <th>adventure</th>\n",
       "      <th>comedy</th>\n",
       "      <th>drama</th>\n",
       "      <th>other</th>\n",
       "      <th>All</th>\n",
       "    </tr>\n",
       "    <tr>\n",
       "      <th>dirGender</th>\n",
       "      <th></th>\n",
       "      <th></th>\n",
       "      <th></th>\n",
       "      <th></th>\n",
       "      <th></th>\n",
       "      <th></th>\n",
       "    </tr>\n",
       "  </thead>\n",
       "  <tbody>\n",
       "    <tr>\n",
       "      <th>female</th>\n",
       "      <td>0.243243</td>\n",
       "      <td>0.162162</td>\n",
       "      <td>0.351351</td>\n",
       "      <td>0.135135</td>\n",
       "      <td>0.108108</td>\n",
       "      <td>1</td>\n",
       "    </tr>\n",
       "    <tr>\n",
       "      <th>male</th>\n",
       "      <td>0.225352</td>\n",
       "      <td>0.272300</td>\n",
       "      <td>0.164319</td>\n",
       "      <td>0.145540</td>\n",
       "      <td>0.192488</td>\n",
       "      <td>1</td>\n",
       "    </tr>\n",
       "    <tr>\n",
       "      <th>All</th>\n",
       "      <td>0.228000</td>\n",
       "      <td>0.256000</td>\n",
       "      <td>0.192000</td>\n",
       "      <td>0.144000</td>\n",
       "      <td>0.180000</td>\n",
       "      <td>1</td>\n",
       "    </tr>\n",
       "  </tbody>\n",
       "</table>\n",
       "</div>"
      ],
      "text/plain": [
       "genre        action  adventure    comedy     drama     other  All\n",
       "dirGender                                                        \n",
       "female     0.243243   0.162162  0.351351  0.135135  0.108108    1\n",
       "male       0.225352   0.272300  0.164319  0.145540  0.192488    1\n",
       "All        0.228000   0.256000  0.192000  0.144000  0.180000    1"
      ]
     },
     "metadata": {},
     "output_type": "display_data"
    },
    {
     "data": {
      "text/plain": [
       "<AxesSubplot:xlabel='dirGender'>"
      ]
     },
     "execution_count": 7,
     "metadata": {},
     "output_type": "execute_result"
    },
    {
     "data": {
      "image/png": "[encoded data removed]",
      "text/plain": [
       "<Figure size 432x288 with 1 Axes>"
      ]
     },
     "metadata": {
      "needs_background": "light"
     },
     "output_type": "display_data"
    }
   ],
   "source": [
    "ct_normal = pd.crosstab(df['dirGender'],df['genre'],margins=True)\n",
    "for x in range(len(ct_normal.index)):\n",
    "    ct_normal.iloc[x] = ct_normal.iloc[x]/ct_normal['All'][x]\n",
    "    \n",
    "display(ct_normal)\n",
    "ct_normal.plot.bar(y=['action','adventure','comedy','drama','other'],stacked=True)"
   ]
  },
  {
   "cell_type": "markdown",
   "metadata": {},
   "source": [
    "### Question5. Generate a table of movie genre (rows) and director gender (columns), normalized by the row-marginal counts for each genre, such that you have conditional probabilities of the director gender, given the movie genre.  Print the table and make a stacked barplot. (? / 3 points) (? / 3 points)"
   ]
  },
  {
   "cell_type": "code",
   "execution_count": 8,
   "metadata": {},
   "outputs": [
    {
     "data": {
      "text/html": [
       "<div>\n",
       "<style scoped>\n",
       "    .dataframe tbody tr th:only-of-type {\n",
       "        vertical-align: middle;\n",
       "    }\n",
       "\n",
       "    .dataframe tbody tr th {\n",
       "        vertical-align: top;\n",
       "    }\n",
       "\n",
       "    .dataframe thead th {\n",
       "        text-align: right;\n",
       "    }\n",
       "</style>\n",
       "<table border=\"1\" class=\"dataframe\">\n",
       "  <thead>\n",
       "    <tr style=\"text-align: right;\">\n",
       "      <th>dirGender</th>\n",
       "      <th>female</th>\n",
       "      <th>male</th>\n",
       "      <th>All</th>\n",
       "    </tr>\n",
       "    <tr>\n",
       "      <th>genre</th>\n",
       "      <th></th>\n",
       "      <th></th>\n",
       "      <th></th>\n",
       "    </tr>\n",
       "  </thead>\n",
       "  <tbody>\n",
       "    <tr>\n",
       "      <th>action</th>\n",
       "      <td>0.157895</td>\n",
       "      <td>0.842105</td>\n",
       "      <td>1</td>\n",
       "    </tr>\n",
       "    <tr>\n",
       "      <th>adventure</th>\n",
       "      <td>0.093750</td>\n",
       "      <td>0.906250</td>\n",
       "      <td>1</td>\n",
       "    </tr>\n",
       "    <tr>\n",
       "      <th>comedy</th>\n",
       "      <td>0.270833</td>\n",
       "      <td>0.729167</td>\n",
       "      <td>1</td>\n",
       "    </tr>\n",
       "    <tr>\n",
       "      <th>drama</th>\n",
       "      <td>0.138889</td>\n",
       "      <td>0.861111</td>\n",
       "      <td>1</td>\n",
       "    </tr>\n",
       "    <tr>\n",
       "      <th>other</th>\n",
       "      <td>0.088889</td>\n",
       "      <td>0.911111</td>\n",
       "      <td>1</td>\n",
       "    </tr>\n",
       "    <tr>\n",
       "      <th>All</th>\n",
       "      <td>0.148000</td>\n",
       "      <td>0.852000</td>\n",
       "      <td>1</td>\n",
       "    </tr>\n",
       "  </tbody>\n",
       "</table>\n",
       "</div>"
      ],
      "text/plain": [
       "dirGender    female      male  All\n",
       "genre                             \n",
       "action     0.157895  0.842105    1\n",
       "adventure  0.093750  0.906250    1\n",
       "comedy     0.270833  0.729167    1\n",
       "drama      0.138889  0.861111    1\n",
       "other      0.088889  0.911111    1\n",
       "All        0.148000  0.852000    1"
      ]
     },
     "metadata": {},
     "output_type": "display_data"
    },
    {
     "data": {
      "text/plain": [
       "<AxesSubplot:xlabel='genre'>"
      ]
     },
     "execution_count": 8,
     "metadata": {},
     "output_type": "execute_result"
    },
    {
     "data": {
      "image/png": "[encoded data removed]",
      "text/plain": [
       "<Figure size 432x288 with 1 Axes>"
      ]
     },
     "metadata": {
      "needs_background": "light"
     },
     "output_type": "display_data"
    }
   ],
   "source": [
    "ct_normal1 = pd.crosstab(df['genre'],df['dirGender'],margins=True)\n",
    "for x in range(len(ct_normal1.index)):\n",
    "    ct_normal1.iloc[x] = ct_normal1.iloc[x]/ct_normal1['All'][x]\n",
    "\n",
    "display(ct_normal1)\n",
    "ct_normal1.plot.bar(y=['female', 'male'],stacked=True)"
   ]
  },
  {
   "cell_type": "markdown",
   "metadata": {},
   "source": [
    "### Question6. Written response: Compare the 2 plots from questions 4 and 5. For each plot, describe which aspect of the data can be most readily seen (? / 4 points)"
   ]
  },
  {
   "cell_type": "markdown",
   "metadata": {},
   "source": [
    "> in the first plot, you can clearly see the ratio between different genres for each director gender\n",
    "> in the second plot, you can clearly see the ratio betweeen director genders for each of the movie genres"
   ]
  },
  {
   "cell_type": "markdown",
   "metadata": {},
   "source": [
    "## Task 3: Probabilities (? / 20 points)"
   ]
  },
  {
   "cell_type": "markdown",
   "metadata": {},
   "source": [
    "For each of the questions in this task, you  should show the formula you used to compute the probability. <br>\n",
    "For each of the tasks in this section, print the answer in a full sentence. For instance, your output should not just be a value but instead: <br>\n",
    "__Probability of movie being sci-fi given that the gender of the director is male, is 0.602__ <br>\n",
    "Using the contingency tables, compute and print:"
   ]
  },
  {
   "cell_type": "markdown",
   "metadata": {},
   "source": [
    "### Question1. The marginal probability of a movie being an action movie (? / 2 points)"
   ]
  },
  {
   "cell_type": "code",
   "execution_count": 97,
   "metadata": {},
   "outputs": [
    {
     "name": "stdout",
     "output_type": "stream",
     "text": [
      "The probability of a movie being action is 0.228.\n"
     ]
    }
   ],
   "source": [
    "# (female action + male action) / (sum of all values) = 0.228\n",
    "print('The probability of a movie being action is ', ct_normal['action'][2],'.',sep='')"
   ]
  },
  {
   "cell_type": "markdown",
   "metadata": {},
   "source": [
    "### Question2. the marginal probability of a movie being a comedy (? / 2 points)"
   ]
  },
  {
   "cell_type": "code",
   "execution_count": 102,
   "metadata": {},
   "outputs": [
    {
     "name": "stdout",
     "output_type": "stream",
     "text": [
      "The probability of a movie being comedy is 0.192.\n"
     ]
    }
   ],
   "source": [
    "# (female comedy + male comedy) / (sum of all values) = 0.192\n",
    "print('The probability of a movie being comedy is ',ct_normal['comedy'][2],'.',sep='')"
   ]
  },
  {
   "cell_type": "markdown",
   "metadata": {},
   "source": [
    "### Question3. the marginal probability of the director being female (? / 2 points)"
   ]
  },
  {
   "cell_type": "code",
   "execution_count": 100,
   "metadata": {},
   "outputs": [
    {
     "name": "stdout",
     "output_type": "stream",
     "text": [
      "The probability of a director being female is 0.148.\n"
     ]
    }
   ],
   "source": [
    "# (sum of all female movies) / (sum of all values) = 0.148\n",
    "print('The probability of a director being female is ',ct_normal1['female'][5],'.',sep='')"
   ]
  },
  {
   "cell_type": "markdown",
   "metadata": {},
   "source": [
    "### Question4. the conditional probability of the movie being an action movie given that the director’s gender is female (? / 2 points)"
   ]
  },
  {
   "cell_type": "code",
   "execution_count": 105,
   "metadata": {},
   "outputs": [
    {
     "name": "stdout",
     "output_type": "stream",
     "text": [
      "The probability of a movie being action given that the gender of the director is female is 0.24324324324324326.\n"
     ]
    }
   ],
   "source": [
    "# (female action) / (sum of all female values) = 0.243\n",
    "print('The probability of a movie being action given that the gender of the director is female is ',ct_normal['action'][0],'.',sep='')"
   ]
  },
  {
   "cell_type": "markdown",
   "metadata": {},
   "source": [
    "### Question5. the conditional probability of the movie being an action movie given that the director’s gender is male (? / 2 points)"
   ]
  },
  {
   "cell_type": "code",
   "execution_count": 103,
   "metadata": {},
   "outputs": [
    {
     "name": "stdout",
     "output_type": "stream",
     "text": [
      "The probability of a movie being action given that the gender of the director is male is 0.22535211267605634.\n"
     ]
    }
   ],
   "source": [
    "# (male action) / (sum of all male values) = 0.225\n",
    "print('The probability of a movie being action given that the gender of the director is male is ',ct_normal['action'][1],'.',sep='')"
   ]
  },
  {
   "cell_type": "markdown",
   "metadata": {},
   "source": [
    "### Question6. the conditional probability of the director’s gender being female given that the movie is an action movie (? / 2 points)"
   ]
  },
  {
   "cell_type": "code",
   "execution_count": 106,
   "metadata": {},
   "outputs": [
    {
     "name": "stdout",
     "output_type": "stream",
     "text": [
      "The probability of a director being female given that the movie is an action movie is 0.15789473684210525.\n"
     ]
    }
   ],
   "source": [
    "# (female action) / (sum of all action values) = 0.158\n",
    "print('The probability of a director being female given that the movie is an action movie is ',ct_normal1['female'][0],'.',sep='')"
   ]
  },
  {
   "cell_type": "markdown",
   "metadata": {},
   "source": [
    "### Question7. the conditional probability of the director’s gender being male knowing that the movie is an action movie (? / 2 points)"
   ]
  },
  {
   "cell_type": "code",
   "execution_count": 107,
   "metadata": {},
   "outputs": [
    {
     "name": "stdout",
     "output_type": "stream",
     "text": [
      "The probability of a director being male given that the movie is an action movie is 0.8421052631578947.\n"
     ]
    }
   ],
   "source": [
    "# (male action) / (sum of all action values) = 0.842\n",
    "print('The probability of a director being male given that the movie is an action movie is ',ct_normal1['male'][0],'.',sep='')"
   ]
  },
  {
   "cell_type": "markdown",
   "metadata": {},
   "source": [
    "### Question8. How does the probability of the director being female change from when you don’t know what the movie is to when you know that the movie is an action movie?  (? / 2 points)"
   ]
  },
  {
   "cell_type": "markdown",
   "metadata": {},
   "source": [
    "> It changed slightly, from 0.148 to 0.157, meaning that there is a slightly higher ratio of men to women in overall movie directing than in specifically action movie directing"
   ]
  },
  {
   "cell_type": "markdown",
   "metadata": {},
   "source": [
    "### Question9. What is the joint probability of a movie being an action movie AND being directed by a woman? (? / 2 points)"
   ]
  },
  {
   "cell_type": "code",
   "execution_count": 111,
   "metadata": {},
   "outputs": [
    {
     "name": "stdout",
     "output_type": "stream",
     "text": [
      "The probability of a director being female and that the movie is an action movie is 0.036.\n"
     ]
    }
   ],
   "source": [
    "# (female action) / (sum of all values) = 0.036\n",
    "sumM = ct.sum().sum()\n",
    "fAc = ct['action'][0]/sumM\n",
    "print('The probability of a director being female and that the movie is an action movie is ',fAc,'.',sep='')"
   ]
  },
  {
   "cell_type": "markdown",
   "metadata": {},
   "source": [
    "### Question10. What is the expected probability of a movie being an action movie AND being directed by a woman IF gender and genre were independent? (? / 2 points)"
   ]
  },
  {
   "cell_type": "code",
   "execution_count": 112,
   "metadata": {},
   "outputs": [
    {
     "name": "stdout",
     "output_type": "stream",
     "text": [
      "The expected probability of a movie being an action movie and being directed by a woman if gender and genre were independent is  0.033743999999999996.\n"
     ]
    }
   ],
   "source": [
    "# ((action) / (sum of all values)) * ((female) / (sum of all values)) = 0.034\n",
    "ac = ct.sum()[0] / sumM\n",
    "fe = ct.iloc[0].sum() / sumM\n",
    "print('The expected probability of a movie being an action movie and being directed by a woman if gender and genre were independent is  ',ac*fe,'.',sep='')"
   ]
  },
  {
   "cell_type": "markdown",
   "metadata": {},
   "source": [
    "## Task 4: Descriptive Statistics by Category (pg 24-30 and pg 250-256) (? / 20 points)"
   ]
  },
  {
   "cell_type": "markdown",
   "metadata": {},
   "source": [
    "### Question1. Using pandas statistics functions (pg. 137-141) and the groupby method determine the mean for production cost by gender. (? / 5 points)"
   ]
  },
  {
   "cell_type": "code",
   "execution_count": 31,
   "metadata": {
    "scrolled": true
   },
   "outputs": [
    {
     "data": {
      "text/plain": [
       "dirGender\n",
       "female    53.186599\n",
       "male      64.998486\n",
       "Name: prodcost, dtype: float64"
      ]
     },
     "execution_count": 31,
     "metadata": {},
     "output_type": "execute_result"
    }
   ],
   "source": [
    "prodCostByGender = df['prodcost'].groupby(df['dirGender'])\n",
    "prodCostByGender.mean()"
   ]
  },
  {
   "cell_type": "markdown",
   "metadata": {},
   "source": [
    "### Question2. Determine and print the mean for production cost by genre. For this question instead of writing four individual print statements use a for loop to iterate over the different genre’s that exist. This needs to be done in three steps (? / 15 points)"
   ]
  },
  {
   "cell_type": "markdown",
   "metadata": {},
   "source": [
    "#### a. Use the groupby function to calculate the mean by genre (? / 3 points)"
   ]
  },
  {
   "cell_type": "code",
   "execution_count": 32,
   "metadata": {},
   "outputs": [
    {
     "data": {
      "text/plain": [
       "genre\n",
       "action       94.585333\n",
       "adventure    91.490184\n",
       "comedy       35.530388\n",
       "drama        42.728014\n",
       "other        29.381752\n",
       "Name: prodcost, dtype: float64"
      ]
     },
     "execution_count": 32,
     "metadata": {},
     "output_type": "execute_result"
    }
   ],
   "source": [
    "prodCostByGenre = df['prodcost'].groupby(df['genre'])\n",
    "prodCostByGenre.mean()"
   ]
  },
  {
   "cell_type": "markdown",
   "metadata": {},
   "source": [
    "#### b. Create a variable that stores the names of the genre categories  (? / 3 points)"
   ]
  },
  {
   "cell_type": "code",
   "execution_count": 33,
   "metadata": {},
   "outputs": [],
   "source": [
    "genreNames = ['action','adventure','comedy','drama','other']"
   ]
  },
  {
   "cell_type": "markdown",
   "metadata": {},
   "source": [
    "#### c. Iterate over this variable using a for loop and print the means for each category using a full sentence of the form \"The mean production cost for an xxxx movie is yyyy. (? / 9 points)"
   ]
  },
  {
   "cell_type": "code",
   "execution_count": 36,
   "metadata": {},
   "outputs": [
    {
     "name": "stdout",
     "output_type": "stream",
     "text": [
      "The mean production cost for an  action  movie is  94.58533282673791 .\n",
      "The mean production cost for an  adventure  movie is  91.49018432495322 .\n",
      "The mean production cost for an  comedy  movie is  35.530387780043235 .\n",
      "The mean production cost for an  drama  movie is  42.72801437146048 .\n",
      "The mean production cost for an  other  movie is  29.381751894250385 .\n"
     ]
    }
   ],
   "source": [
    "for x in range(len(prodCostByGenre.mean())):\n",
    "    print('The mean production cost for an ',genreNames[x],' movie is ',prodCostByGenre.mean()[x],'.')"
   ]
  },
  {
   "cell_type": "markdown",
   "metadata": {},
   "source": [
    "## Task 5: Histogram visualization by group (? / 25 points)\n",
    "In this task you will learn how to use __seaborn__. Seaborn is a library built on top of matplotlib and it's closely integrated with pandas data structures.  "
   ]
  },
  {
   "cell_type": "markdown",
   "metadata": {},
   "source": [
    "### Question1.Using _groupby_ create two series, one that has the director’s income for those of the male gender, and one for females.  Use _groupby_ to first group the directorIncome values and then use _get_group(genderValue)_ to create a new series for the specified gender (? / 4 points)"
   ]
  },
  {
   "cell_type": "code",
   "execution_count": 44,
   "metadata": {},
   "outputs": [],
   "source": [
    "import seaborn as sns\n",
    "sns.set()\n",
    "\n",
    "dirIncomeByGender = df['dirIncome'].groupby(df['dirGender'])\n",
    "maleDirIncome = dirIncomeByGender.get_group('male')\n",
    "femaleDirIncome = dirIncomeByGender.get_group('female')"
   ]
  },
  {
   "cell_type": "markdown",
   "metadata": {},
   "source": [
    "### Question2. Visualize on the same plot the distribution of incomes using the histogram – plot the two histograms on top of each other for direct comparison. (? /5 points)"
   ]
  },
  {
   "cell_type": "code",
   "execution_count": 68,
   "metadata": {},
   "outputs": [
    {
     "data": {
      "text/plain": [
       "Text(0, 0.5, 'Number of Directors with Income')"
      ]
     },
     "execution_count": 68,
     "metadata": {},
     "output_type": "execute_result"
    },
    {
     "data": {
      "image/png": "[encoded data removed]",
      "text/plain": [
       "<Figure size 432x288 with 1 Axes>"
      ]
     },
     "metadata": {},
     "output_type": "display_data"
    }
   ],
   "source": [
    "plt.hist(maleDirIncome, alpha=0.5, bins=27)\n",
    "plt.hist(femaleDirIncome, alpha=0.5)\n",
    "plt.legend(['Male Director Income','Female Director Income'])\n",
    "plt.xlabel('Director Income Amount')\n",
    "plt.ylabel('Number of Directors with Income')"
   ]
  },
  {
   "cell_type": "markdown",
   "metadata": {},
   "source": [
    "### Question3. Plot the same data, using a boxplot, splitting by directorGender (? / 4 points)"
   ]
  },
  {
   "cell_type": "code",
   "execution_count": 72,
   "metadata": {},
   "outputs": [
    {
     "data": {
      "text/plain": [
       "Text(0, 0.5, 'Director Income')"
      ]
     },
     "execution_count": 72,
     "metadata": {},
     "output_type": "execute_result"
    },
    {
     "data": {
      "image/png": "[encoded data removed]",
      "text/plain": [
       "<Figure size 432x288 with 1 Axes>"
      ]
     },
     "metadata": {},
     "output_type": "display_data"
    }
   ],
   "source": [
    "plt.boxplot([maleDirIncome,femaleDirIncome])\n",
    "plt.xticks([1,2],['Male Director Income','Female Director Income'])\n",
    "plt.xlabel('Gender')\n",
    "plt.ylabel('Director Income')"
   ]
  },
  {
   "cell_type": "markdown",
   "metadata": {},
   "source": [
    "### Question4. Plot the same data using a violin plot, splitting by director gender. (? / 4 points)"
   ]
  },
  {
   "cell_type": "code",
   "execution_count": 73,
   "metadata": {},
   "outputs": [
    {
     "data": {
      "text/plain": [
       "Text(0, 0.5, 'Director Income')"
      ]
     },
     "execution_count": 73,
     "metadata": {},
     "output_type": "execute_result"
    },
    {
     "data": {
      "image/png": "[encoded data removed]",
      "text/plain": [
       "<Figure size 432x288 with 1 Axes>"
      ]
     },
     "metadata": {},
     "output_type": "display_data"
    }
   ],
   "source": [
    "plt.violinplot([maleDirIncome,femaleDirIncome])\n",
    "plt.xticks([1,2],['Male Director Income','Female Director Income'])\n",
    "plt.xlabel('Gender')\n",
    "plt.ylabel('Director Income')"
   ]
  },
  {
   "cell_type": "markdown",
   "metadata": {},
   "source": [
    "### Question5. Make a boxplot of director income split by movie genre. (? /4 points)"
   ]
  },
  {
   "cell_type": "code",
   "execution_count": 91,
   "metadata": {},
   "outputs": [
    {
     "data": {
      "text/plain": [
       "Text(0, 0.5, 'Director Income')"
      ]
     },
     "execution_count": 91,
     "metadata": {},
     "output_type": "execute_result"
    },
    {
     "data": {
      "image/png": "[encoded data removed]",
      "text/plain": [
       "<Figure size 432x288 with 1 Axes>"
      ]
     },
     "metadata": {},
     "output_type": "display_data"
    }
   ],
   "source": [
    "dirIncomeByGenre = df['dirIncome'].groupby(df['genre'])\n",
    "action = dirIncomeByGenre.get_group('action')\n",
    "adventure = dirIncomeByGenre.get_group('adventure')\n",
    "comedy = dirIncomeByGenre.get_group('comedy')\n",
    "drama = dirIncomeByGenre.get_group('drama')\n",
    "other = dirIncomeByGenre.get_group('other')\n",
    "plt.boxplot([action,adventure,comedy,drama,other])\n",
    "plt.xticks([1,2,3,4,5],['Action','Adventure','Comedy','Drama','Other'])\n",
    "plt.xlabel('Genre')\n",
    "plt.ylabel('Director Income')"
   ]
  },
  {
   "cell_type": "markdown",
   "metadata": {},
   "source": [
    "### Question6. Make a violinplotof director income split by movie genre (? / 4 points)"
   ]
  },
  {
   "cell_type": "code",
   "execution_count": 92,
   "metadata": {},
   "outputs": [
    {
     "data": {
      "text/plain": [
       "Text(0, 0.5, 'Director Income')"
      ]
     },
     "execution_count": 92,
     "metadata": {},
     "output_type": "execute_result"
    },
    {
     "data": {
      "image/png": "[encoded data removed]",
      "text/plain": [
       "<Figure size 432x288 with 1 Axes>"
      ]
     },
     "metadata": {},
     "output_type": "display_data"
    }
   ],
   "source": [
    "plt.violinplot([action,adventure,comedy,drama,other])\n",
    "plt.xticks([1,2,3,4,5],['Action','Adventure','Comedy','Drama','Other'])\n",
    "plt.xlabel('Genre')\n",
    "plt.ylabel('Director Income')"
   ]
  }
 ],
 "metadata": {
  "kernelspec": {
   "display_name": "Python 3 (ipykernel)",
   "language": "python",
   "name": "python3"
  },
  "language_info": {
   "codemirror_mode": {
    "name": "ipython",
    "version": 3
   },
   "file_extension": ".py",
   "mimetype": "text/x-python",
   "name": "python",
   "nbconvert_exporter": "python",
   "pygments_lexer": "ipython3",
   "version": "3.9.7"
  }
 },
 "nbformat": 4,
 "nbformat_minor": 2
}
