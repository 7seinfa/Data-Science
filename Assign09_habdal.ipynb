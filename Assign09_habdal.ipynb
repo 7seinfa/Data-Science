{
 "cells": [
  {
   "cell_type": "markdown",
   "metadata": {},
   "source": [
    "# Assignment 9: Multiple regression\n",
    "\n",
    "### Learning Outcomes\n",
    "This assignment introduces you to multiple regression analysis, model comparision between different multiple regression models and bootstrap for regression models. \n",
    "### Data set \n",
    "An investigator is interested in understanding the relationship, if any, between the analytical skills of young gifted children and the following variables: father’s IQ, mother’s IQ, age in month when the child first said ‘mummy’ or ‘daddy’, age in month when the child first counted to 10 successfully, average number of hours per week the child’s mother or father reads to the child, average number of hours per week the child watched an educational program on TV during the past three months, average number of hours per week the child watched cartoons on TV during the past three months. \n",
    "\n",
    "The analytical skills are evaluated using a standard testing procedure, and the score on this test is used as the response variable. Data were collected from schools in a large city on a set of thirty-six children who were identified as gifted children soon after they reached the age of four.\n",
    " \n",
    "The data frame stored in gifted.csv contains the variables: \n",
    "- score:       Score in test of analytical skills.\n",
    "- fatheriq:    Father’s IQ.\n",
    "- motheriq:  Mother’s IQ.\n",
    "- speak:       Age in months when the child first said ‘mummy’ or ‘daddy’.\n",
    "- count:       Age in months when the child first counted to 10 successfully.\n",
    "- read:         Average number of hours per week the child’s mother or father reads to the child.\n",
    "- edutv:       Average number of hours per week the child watched an educational program on TV during the past three months.\n",
    "- cartoons:  Average number of hours per week the child watched cartoons on TV during the past three months.\n",
    "\n",
    "### Preliminaries\n",
    "Set up the environment by importing pandas, numpy, and matplotlib, scipy.optimize. This is already done in the preliminaries. Ensure that you have fully mastered and understood HW7 before starting the assignment. \n"
   ]
  },
  {
   "cell_type": "code",
   "execution_count": 1,
   "metadata": {},
   "outputs": [],
   "source": [
    "import matplotlib\n",
    "matplotlib.use('TkAgg')\n",
    "import matplotlib.pyplot as plt \n",
    "%matplotlib inline\n",
    "import scipy.optimize as so\n",
    "import pandas as pd \n",
    "import numpy as np\n",
    "D = pd.read_csv('gifted.csv')"
   ]
  },
  {
   "cell_type": "markdown",
   "metadata": {},
   "source": [
    "## Task 1: Implementing multiple regression ( / 28 pts)\n",
    "### Question 1. ( / 6 pts)\n",
    "Implement the function multRegPredict(b,D,xname). \n",
    "  - b is a list of parameter, with the first one being the intercept \n",
    "  - D is a DataFrame that contains the regressors\n",
    "  - xname is a list of column names in D that will be added as regressors \n",
    "\n",
    "b needs to contain one more parameter (the intercept) than the numbers of regressors in xname. It will be helpful to start from the corresponding functions from last homework for polynomial regression. \n",
    "\n",
    "Then make a scatterplot of D.read and D.score \n",
    "Call your new function with yp = multRegPredict([134,11.8], D,['read']) and add predicted values to your plot (just call plt.scatter again – the dots will be added in a different color).  "
   ]
  },
  {
   "cell_type": "code",
   "execution_count": 97,
   "metadata": {},
   "outputs": [
    {
     "data": {
      "text/plain": [
       "Text(0, 0.5, 'Read')"
      ]
     },
     "execution_count": 97,
     "metadata": {},
     "output_type": "execute_result"
    },
    {
     "data": {
      "image/png": "[encoded data removed]",
      "text/plain": [
       "<Figure size 432x288 with 1 Axes>"
      ]
     },
     "metadata": {
      "needs_background": "light"
     },
     "output_type": "display_data"
    }
   ],
   "source": [
    "def multRegPredict(b,D,xname):\n",
    "    yp = b[0] * np.ones(len(D))\n",
    "    for i in range(len(xname)):\n",
    "        yp = yp + b[i+1]*D[xname[i]] \n",
    "    return (yp)\n",
    "\n",
    "plt.scatter(D.score,D.read)\n",
    "yp = multRegPredict([134,11.8], D,['read'])\n",
    "plt.scatter(D.score,yp)\n",
    "plt.xlabel(\"Score\")\n",
    "plt.ylabel(\"Read\")"
   ]
  },
  {
   "cell_type": "markdown",
   "metadata": {},
   "source": [
    "### Question 2. ( / 10 pts)\n",
    "Implement the function multRegLossRSS(b,D,y,xname). y is a list or np-array for the response variable. The function should get the predictions from multRegPredict, and then calculate the residual sum-of-squares, and the derivative of the loss function in respect to each parameter. Test the function by calling multRegLossRSS([134,11.8],D,D.score,['read']). Report the resulting RSS for the regression of score (response variable) against read (explanatory variable)- as well as the derivatives for each parameter. Written answer: From the value of the derivative, do you have to increase or decrease the slope parameter to get a better fit?"
   ]
  },
  {
   "cell_type": "code",
   "execution_count": 16,
   "metadata": {},
   "outputs": [
    {
     "name": "stdout",
     "output_type": "stream",
     "text": [
      "The RSS is 543.5100000000003 and the derivatives are [ 4.84 10.3 ]\n"
     ]
    }
   ],
   "source": [
    "def multRegLossRSS(b,D,y,xname): \n",
    "    predY = multRegPredict(b,D,xname)\n",
    "    res = y-predY\n",
    "    rss = sum(res**2)\n",
    "    deriv = np.zeros((len(xname) + 1))\n",
    "    deriv[0] = -2*sum(res)\n",
    "    for i in range(len(xname)):\n",
    "        x_current = D[xname[i]]\n",
    "        deriv[i+1] = -2*sum(x_current * res)\n",
    "    return (rss,deriv)\n",
    "    \n",
    "rss,deriv = multRegLossRSS([134,11.8],D,D.score,['read'])\n",
    "print(\"The RSS is\",rss,\"and the derivatives are\",deriv)"
   ]
  },
  {
   "cell_type": "markdown",
   "metadata": {},
   "source": [
    ">I need to decrease the slope."
   ]
  },
  {
   "cell_type": "markdown",
   "metadata": {},
   "source": [
    "### Question 3 ( / 12 pts)\n",
    "Implement the function multRegFit(D,y,xname), which uses so.minimize and multRegLossRSS to estimate the parameter values, and then calls multRegLossRSS again to calculate the R2 of the fit. The function should then return the R2 values and regression coefficients b. Use this print on the screen the R2-values for the models:\n",
    "\n",
    "- y = b0  (hint, set xname = [])\n",
    "- y = b0 + b1 \\* read \n",
    "- y = b0 + b1 \\* motheriq \n",
    "- y = b0 + b1 \\* motheriq + b2 \\* read\n",
    "\n",
    "Which model has the highest R2? How do you interpret these results? How much of the variance of the response variable is uniquely explained by reading, how much by motheriq? Do the two variables explain each other away, explain independent parts of the variance, or show suppression? "
   ]
  },
  {
   "cell_type": "code",
   "execution_count": 95,
   "metadata": {},
   "outputs": [
    {
     "name": "stdout",
     "output_type": "stream",
     "text": [
      "y = b0\n",
      "R2 is 3.3306690738754696e-16\n",
      "\n",
      "y = b0 + b1 * read\n",
      "R2 is 0.2758322729769078\n",
      "\n",
      "y = b0 + b1 * motheriq\n",
      "R2 is 0.3263173772377883\n",
      "\n",
      "y = b0 + b1 * motheriq + b2 * read\n",
      "R2 is 0.6291342380411362\n"
     ]
    },
    {
     "data": {
      "text/plain": [
       "array([82.63542504,  0.42346452, 12.38890287])"
      ]
     },
     "execution_count": 95,
     "metadata": {},
     "output_type": "execute_result"
    }
   ],
   "source": [
    "def multRegFit(D,y,xname,output=True):\n",
    "    RESULT = so.minimize(multRegLossRSS, np.zeros(len(xname)+1), args = (D,y,xname), jac = True)\n",
    "    TSS = sum((y - np.mean(y))**2)\n",
    "    RSS,grad = multRegLossRSS(RESULT.x,D,y,xname)\n",
    "    R2 = 1-(RSS/TSS)\n",
    "    if output:\n",
    "        print('R2 is',R2)\n",
    "    return RESULT.x\n",
    "\n",
    "print(\"y = b0\")\n",
    "multRegFit(D,D.score,[])\n",
    "print(\"\\ny = b0 + b1 * read\")\n",
    "multRegFit(D,D.score,['read'])\n",
    "print(\"\\ny = b0 + b1 * motheriq\")\n",
    "multRegFit(D,D.score,['motheriq'])\n",
    "print(\"\\ny = b0 + b1 * motheriq + b2 * read\")\n",
    "multRegFit(D,D.score,['motheriq','read'])"
   ]
  },
  {
   "cell_type": "markdown",
   "metadata": {},
   "source": [
    "> Highest model is y = b0 + b1 * motheriq + b2 * read. This means both read and motheriq are significant for score. 27.6% of the variance is explained by reading, and 32.6% by motheriq. Together they suppress the unwanted variability from eachother since the R2 of both in the model is higher than adding their individual R2's."
   ]
  },
  {
   "cell_type": "markdown",
   "metadata": {},
   "source": [
    "## Task 2: Do crossvalidation on these models  ( / 32 pts)\n",
    "### Question 1 ( / 12 pts)\n",
    "Modify the leaveOneOutCV function from last homework, so it works on a data frame with the multiple regression analysis. The inputs to the function are:  \n",
    "\n",
    "def leaveOneOutCV(D,y,args=(),fitfcn=multRegFit,predictfcn=multRegPredict):\n",
    " - D: Data Frame with explanatory variables \n",
    " - y: A list or np-array of the response variable\n",
    " - args: Input arguments for the fitfcn and predict function (xname) \n",
    " - fitfcn: Function for fitting called as fitfcn(D,y,args)\n",
    " - predictfcn: Function for prediction called as predictfcn(D,y,args)\n"
   ]
  },
  {
   "cell_type": "code",
   "execution_count": 19,
   "metadata": {},
   "outputs": [],
   "source": [
    "def leaveOneOutCV(D,y,args=(),fitfcn=multRegFit,predictfcn=multRegPredict):\n",
    "    yp=np.zeros(len(D))\n",
    "    for i in range(len(D)):\n",
    "        df_train = D.iloc[D.index != i]\n",
    "        df_test = D.iloc[D.index == i]\n",
    "        ind = np.arange(len(y))\n",
    "        ind = np.delete(ind,i)\n",
    "        y_train = y[ind]\n",
    "        b_train = fitfcn(df_train, y_train, args, output=False)\n",
    "        yp[i]=predictfcn(b_train, df_test, args)\n",
    "    TSS = sum((y - np.mean(y))**2)\n",
    "    RSScv = sum((y-yp)**2)\n",
    "    R2cv = 1-(RSScv/TSS)\n",
    "    b = fitfcn(D, y, args, output=False)\n",
    "    yf = predictfcn(b, D, args)\n",
    "    RSS = sum((y-yf)**2)\n",
    "    R2 = 1-(RSS/TSS)\n",
    "    return R2,R2cv"
   ]
  },
  {
   "cell_type": "markdown",
   "metadata": {},
   "source": [
    "### Question 2 ( / 8 pts)\n",
    "Call the function to get the cross-validated R2 for the 4 models specified in Task 1, Question 3. How to you interpret these results? Is there evidence that reading increases the analytic score over and above what the IQ of the mother does? "
   ]
  },
  {
   "cell_type": "code",
   "execution_count": 20,
   "metadata": {},
   "outputs": [
    {
     "name": "stdout",
     "output_type": "stream",
     "text": [
      "y = b0\n",
      "-0.05795918367345809\n",
      "\n",
      "y = b0 + b1 * read\n",
      "0.20419766461724764\n",
      "\n",
      "y = b0 + b1 * motheriq\n",
      "0.23646781973079922\n",
      "\n",
      "y = b0 + b1 * motheriq + b2 * read\n",
      "0.5760093385351055\n"
     ]
    }
   ],
   "source": [
    "print(\"y = b0\")\n",
    "print(leaveOneOutCV(D,D.score)[1])\n",
    "print(\"\\ny = b0 + b1 * read\")\n",
    "print(leaveOneOutCV(D,D.score,args=['read'])[1])\n",
    "print(\"\\ny = b0 + b1 * motheriq\")\n",
    "print(leaveOneOutCV(D,D.score,args=['motheriq'])[1])\n",
    "print(\"\\ny = b0 + b1 * motheriq + b2 * read\")\n",
    "print(leaveOneOutCV(D,D.score,args=['motheriq','read'])[1])"
   ]
  },
  {
   "cell_type": "markdown",
   "metadata": {},
   "source": []
  },
  {
   "cell_type": "markdown",
   "metadata": {},
   "source": [
    "### Question 3 ( / 4 pts)\n",
    "Add the variable fatheriq to the model containing read and motheriq. Is there evidence that the IQ of the father improves the prediction over and above what hours reading and mother IQ can predict? "
   ]
  },
  {
   "cell_type": "code",
   "execution_count": 21,
   "metadata": {},
   "outputs": [
    {
     "name": "stdout",
     "output_type": "stream",
     "text": [
      "y = b0 + b1 * motheriq + b2 * read + b3 * fatheriq\n",
      "0.6326907018776471\n"
     ]
    }
   ],
   "source": [
    "print(\"y = b0 + b1 * motheriq + b2 * read + b3 * fatheriq\")\n",
    "print(leaveOneOutCV(D,D.score,args=['motheriq','read','fatheriq'])[1])"
   ]
  },
  {
   "cell_type": "markdown",
   "metadata": {},
   "source": [
    ">Because the difference is less than 0.05, I don't think it is significant enough for evidence."
   ]
  },
  {
   "cell_type": "markdown",
   "metadata": {},
   "source": [
    "### Question 4 ( / 8 pts)\n",
    "Is edutv (hours of educational TV) alone a reliable predictor of the analytic score? Does it add prediction power over and above from what the model motheriq + read + fatheriq can predict? \n"
   ]
  },
  {
   "cell_type": "code",
   "execution_count": 22,
   "metadata": {},
   "outputs": [
    {
     "name": "stdout",
     "output_type": "stream",
     "text": [
      "y = b0 + b1 * edutv\n",
      "0.037315563547506314\n",
      "y = b0 + b1 * motheriq + b2 * read + b3 * fatheriq + b4 * edutv\n",
      "0.6209659506666092\n"
     ]
    }
   ],
   "source": [
    "print(\"y = b0 + b1 * edutv\")\n",
    "print(leaveOneOutCV(D,D.score,args=['edutv'])[1])\n",
    "print(\"y = b0 + b1 * motheriq + b2 * read + b3 * fatheriq + b4 * edutv\")\n",
    "print(leaveOneOutCV(D,D.score,args=['motheriq','read','fatheriq','edutv'])[1])"
   ]
  },
  {
   "cell_type": "markdown",
   "metadata": {},
   "source": [
    "> It is neither a reliable predictor and it actually decreases the R2cv"
   ]
  },
  {
   "cell_type": "markdown",
   "metadata": {},
   "source": [
    "## Task 3: Bootstrap for multiple regression. ( / 40 pts)\n",
    "### Question 1 ( / 14 pts)\n",
    "Implement bootstrap for linear regression. Start from the function bootstrap from Homework 3. The function should have input parameters\n",
    "def bootstrapReg(D,y,args,fitfcn,numIter=500):\n",
    "and should return a numIter x numParams np.array of bootstrap estimates.  \n",
    "numParams is the length of b-vector returned from the fitfcn (in our case multiRegFit). That is, each column of the array should be the boostrap estimates for one of the regression coefficients. \n",
    "\n",
    "Note: you will also have to use here the following functions (add them to your notebook): \n",
    "- confidenceInt from HW 3 (Note that the posted version of HW3 had a bug in them).\n",
    "\n",
    "Run the bootstrap on the data set in gifted.csv. Run the bootstrap on a simple regression model that explains ‘score’ from the explanatory variable ‘edutv’ alone. Report the CI for edutv -slope. Does the CI include zero- i.e. is the relationship between edutv and score significant? Which direction is the association between the two variables? "
   ]
  },
  {
   "cell_type": "code",
   "execution_count": 101,
   "metadata": {},
   "outputs": [
    {
     "name": "stdout",
     "output_type": "stream",
     "text": [
      "[-6.60700801  7.88882339]\n"
     ]
    }
   ],
   "source": [
    "def confidenceInt(data, prec):\n",
    "    bounds = np.percentile(data, [(100-prec)/2,100-(100-prec)/2])\n",
    "    return bounds\n",
    "\n",
    "def bootstrapReg(D,y,args,fitfcn=multRegFit,numIter=500):\n",
    "    numParams = len(args)+1\n",
    "    b = fitfcn(D,y,args, output=False)\n",
    "    N = len(D)\n",
    "    ind = np.arange(len(D.index))\n",
    "    stats = np.zeros([numIter,numParams])\n",
    "    for i in range(numIter):\n",
    "        sample = np.random.choice(ind, N, replace = True)\n",
    "        sample_df = D.iloc[sample]\n",
    "        sample_df.index = ind\n",
    "        x = fitfcn(sample_df, y, args, output=False)\n",
    "        stats[i,:] = x\n",
    "    return stats\n",
    "\n",
    "boot0 = bootstrapReg(D,D.score,['edutv'])\n",
    "confInt = confidenceInt(boot[:,1],95)\n",
    "print(confInt)"
   ]
  },
  {
   "cell_type": "markdown",
   "metadata": {},
   "source": [
    "> The confidence interval does include 0, so the relationshipp is not significant. The direction is positive."
   ]
  },
  {
   "cell_type": "markdown",
   "metadata": {},
   "source": [
    "### Question 2 ( / 8 pts)\n",
    "Run the bootstrap on the model that explains score as a function of hours of cartoons watched. Is there a significant relationship between ‘cartoons’ and ‘score’? "
   ]
  },
  {
   "cell_type": "code",
   "execution_count": 103,
   "metadata": {},
   "outputs": [
    {
     "name": "stdout",
     "output_type": "stream",
     "text": [
      "[-2.53130941  2.40405586]\n"
     ]
    }
   ],
   "source": [
    "boot1 = bootstrapReg(D,D.score,['cartoons'])\n",
    "confInt = confidenceInt(boot1[:,1],95)\n",
    "print(confInt)"
   ]
  },
  {
   "cell_type": "markdown",
   "metadata": {},
   "source": [
    "> There is no significant relationship as the CI contains 0."
   ]
  },
  {
   "cell_type": "markdown",
   "metadata": {},
   "source": [
    "### Question 3 ( / 8 pts)\n",
    "Run the bootstrap on a model that explains score as a function of edutv and cartoons. Report the CIs for both variabless. Do the conclusion from Question 1 and 2 change? Have the CIs become smaller or larger as compared to the simple regression models from Question 1 and 2?"
   ]
  },
  {
   "cell_type": "code",
   "execution_count": 104,
   "metadata": {},
   "outputs": [
    {
     "name": "stdout",
     "output_type": "stream",
     "text": [
      "edutv:\n",
      "[-6.76832261  7.76105394]\n",
      "\n",
      "cartoons:\n",
      "[-6.32926112  6.71970487]\n"
     ]
    }
   ],
   "source": [
    "boot2 = bootstrapReg(D,D.score,['edutv','cartoons'])\n",
    "print('edutv:')\n",
    "confInt = confidenceInt(boot2[:,1],95)\n",
    "print(confInt)\n",
    "print('\\ncartoons:')\n",
    "confInt = confidenceInt(boot2[:,2],95)\n",
    "print(confInt)"
   ]
  },
  {
   "cell_type": "markdown",
   "metadata": {},
   "source": [
    ">The conclusion doesn't change, and the cartoons interval has widened."
   ]
  },
  {
   "cell_type": "markdown",
   "metadata": {},
   "source": [
    "### Question 4 ( / 10 pts)\n",
    "Plot the bootstrap estimates for edutv and cartoons from Question 3 against each other in a scatter plot. Are they positively or negatively related? What does this mean for the relationship between the regressors?"
   ]
  },
  {
   "cell_type": "code",
   "execution_count": 106,
   "metadata": {},
   "outputs": [
    {
     "data": {
      "text/plain": [
       "Text(0.5, 0, 'edutv')"
      ]
     },
     "execution_count": 106,
     "metadata": {},
     "output_type": "execute_result"
    },
    {
     "data": {
      "image/png": "[encoded data removed]",
      "text/plain": [
       "<Figure size 432x288 with 1 Axes>"
      ]
     },
     "metadata": {
      "needs_background": "light"
     },
     "output_type": "display_data"
    }
   ],
   "source": [
    "plt.scatter(boot2[:,1],boot2[:,2])\n",
    "plt.ylabel('cartoons')\n",
    "plt.xlabel('edutv')"
   ]
  },
  {
   "cell_type": "markdown",
   "metadata": {},
   "source": [
    ">They are positively related. This means there is a negative relation on the slope between the two, and more variability in estimates."
   ]
  }
 ],
 "metadata": {
  "kernelspec": {
   "display_name": "Python 3 (ipykernel)",
   "language": "python",
   "name": "python3"
  },
  "language_info": {
   "codemirror_mode": {
    "name": "ipython",
    "version": 3
   },
   "file_extension": ".py",
   "mimetype": "text/x-python",
   "name": "python",
   "nbconvert_exporter": "python",
   "pygments_lexer": "ipython3",
   "version": "3.9.7"
  }
 },
 "nbformat": 4,
 "nbformat_minor": 1
}
