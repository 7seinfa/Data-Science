{
 "cells": [
  {
   "cell_type": "markdown",
   "metadata": {},
   "source": [
    "# Assignment 8: Mathematical modelling - model estimation\n",
    "## Preliminaries"
   ]
  },
  {
   "cell_type": "code",
   "execution_count": 1,
   "metadata": {},
   "outputs": [],
   "source": [
    "import matplotlib\n",
    "matplotlib.use('TkAgg')\n",
    "import matplotlib.pyplot as plt \n",
    "%matplotlib inline\n",
    "import scipy.optimize as so\n",
    "import pandas as pd \n",
    "import numpy as np\n",
    "import seaborn as sns\n",
    "df = pd.read_csv('possum.csv')"
   ]
  },
  {
   "cell_type": "markdown",
   "metadata": {},
   "source": [
    "## Task 1: Robust regression ( / 20 pts)\n",
    "### Question 1 ( / 13 pts)\n",
    "Start with the function code that you wrote in homework 7. Modify the function simpleRegLossRSS to calculate the summed absolute deviation of the prediction from the data (instead of the residual sum-of-squares). Call this new function simpleRegLossSAD. Modify your simpleRegFit function (Task 3, Question 4) from Homework 7 to take a flexible loss function as a 3rd input argument. Now call the function with your new loss function to calculate a regression line of tailL (y) against age (x) in the possum data set (see HW7). Your function simpleRegFit  should provide a plot of the fit. Compare the fit with the fit you achieved with the squared error (HW7, task 3, question 5). What do you observe?"
   ]
  },
  {
   "cell_type": "code",
   "execution_count": 2,
   "metadata": {},
   "outputs": [
    {
     "name": "stdout",
     "output_type": "stream",
     "text": [
      "R2 is 0.8518771134632673\n"
     ]
    },
    {
     "data": {
      "text/plain": [
       "Text(0, 0.5, 'Tail Length')"
      ]
     },
     "execution_count": 2,
     "metadata": {},
     "output_type": "execute_result"
    },
    {
     "data": {
      "image/png": "[encoded data removed]",
      "text/plain": [
       "<Figure size 432x288 with 1 Axes>"
      ]
     },
     "metadata": {
      "needs_background": "light"
     },
     "output_type": "display_data"
    }
   ],
   "source": [
    "def simpleRegPredict(b,x):\n",
    "    return b[0] + b[1]*x\n",
    "\n",
    "def simpleRegLossSAD(b,x,y):\n",
    "    predY = simpleRegPredict(b,x)\n",
    "    res = y-predY\n",
    "    sad = sum(np.abs(res))\n",
    "    deriv = np.zeros(2)\n",
    "    deriv[0]=-sum(np.sign(res))\n",
    "    deriv[1]=-sum(np.sign(res)*x)\n",
    "    return (sad,deriv)\n",
    "\n",
    "def plotPrediction(b,x,y,predictFcn=simpleRegPredict):\n",
    "    fig = plt.figure()\n",
    "    ax = fig.add_subplot(1,1,1)\n",
    "    ax.scatter(x,y)\n",
    "    xp = np.linspace(min(x),max(x),num=50)\n",
    "    yp = predictFcn(b,xp)\n",
    "    ax.plot(xp,yp,'r')\n",
    "\n",
    "def simpleRegFit(x,y, lossF):\n",
    "    RESULT = so.minimize(lossF, [0, 0], args = (x,y), jac = True)\n",
    "    plotPrediction(RESULT.x,x,y)\n",
    "    TSS = sum((y - np.mean(y))**2)\n",
    "    R2 = 1-(RESULT.fun/TSS)\n",
    "    print('R2 is',R2)\n",
    "    \n",
    "simpleRegFit(df.age,df.tailL,simpleRegLossSAD)\n",
    "plt.xlabel(\"Age\")\n",
    "plt.ylabel(\"Tail Length\")"
   ]
  },
  {
   "cell_type": "markdown",
   "metadata": {},
   "source": [
    "> The fitted line is no longer affected by the outlier, so it fits the data much better."
   ]
  },
  {
   "cell_type": "markdown",
   "metadata": {},
   "source": [
    "### Question 2 ( / 7 pts)\n",
    "Report the R2 for the fit using median regression (question 1). Compare it to the R2 value you got for the fit minimizing the squared error. Which one is lower? Why? Which fit is the better one? Which one will predict new data better?  "
   ]
  },
  {
   "cell_type": "markdown",
   "metadata": {},
   "source": [
    ">As per last question, the R2 using median regression is 0.85, and the R2 in last assignment was 0.22. Clearly the median regression fit is better, probably due to lower errors with most points other than the outlier. The median regression fit is better and will predict data better, as it is much higher."
   ]
  },
  {
   "cell_type": "markdown",
   "metadata": {},
   "source": [
    "## Task 2: Nonlinear (polynomial) regression ( / 40 pts)\n",
    "For this task, we will use a new data set (fertilizer.csv), which comes from an agricultural study. Each plot of the field (a 10m-by-10m square) was given a randomly determined concentration of fertilizer (in ml/week/m2). The harvest yield for grain in kg/patch was recorded. \n",
    "The data has two fields \n",
    "- fertCon: Concentration of fertilizer\n",
    "- harvest: Yield of the harvest in kg\n",
    "\n",
    "\n",
    "### Question 1 ( / 5 pts)\n",
    "Load the data set and make a scatter plot of fertilizer concentration on the x-axis and harvest yield on the y-axis. How would you describe the relationship? "
   ]
  },
  {
   "cell_type": "code",
   "execution_count": 3,
   "metadata": {},
   "outputs": [
    {
     "data": {
      "text/plain": [
       "Text(0, 0.5, 'Harvest Yield')"
      ]
     },
     "execution_count": 3,
     "metadata": {},
     "output_type": "execute_result"
    },
    {
     "data": {
      "image/png": "[encoded data removed]",
      "text/plain": [
       "<Figure size 432x288 with 1 Axes>"
      ]
     },
     "metadata": {
      "needs_background": "light"
     },
     "output_type": "display_data"
    }
   ],
   "source": [
    "df1 = pd.read_csv('fertilizer.csv')\n",
    "\n",
    "sns.scatterplot(x=\"fertCon\",y=\"harvest\",data=df1)\n",
    "plt.xlabel(\"Fertilizer Concentration\")\n",
    "plt.ylabel(\"Harvest Yield\")"
   ]
  },
  {
   "cell_type": "markdown",
   "metadata": {},
   "source": [
    "### Question 2 ( / 12 pts)\n",
    "Write a function called polyRegPredict(b,x) which returns the prediction of a polynomial regression model on x. The length of b should indicate the order of the model. If b has length 1, the model should be of order 0 (constant). If b has length 2, it should be a linear regression model, if b has length 3, it should be quadratic model (order 2). Call your function with x=np.linspace(-5,5,10) and b=[-10,-4,1]. Plot the result as a scatter plot."
   ]
  },
  {
   "cell_type": "code",
   "execution_count": 4,
   "metadata": {},
   "outputs": [
    {
     "data": {
      "image/png": "[encoded data removed]",
      "text/plain": [
       "<Figure size 432x288 with 1 Axes>"
      ]
     },
     "metadata": {
      "needs_background": "light"
     },
     "output_type": "display_data"
    }
   ],
   "source": [
    "def polyRegPredict(b,x):\n",
    "    yp=np.zeros(x.shape)\n",
    "    for i in range(len(b)):\n",
    "        yp=yp+b[i]*(x**i)\n",
    "    return yp\n",
    "\n",
    "pred=polyRegPredict([-10,-4,1],np.linspace(-5,5,10))\n",
    "plt.scatter(np.linspace(-5,5,10),pred)\n",
    "plt.show()"
   ]
  },
  {
   "cell_type": "markdown",
   "metadata": {},
   "source": [
    "### Question 3 ( / 18 pts)\n",
    "Modify you function simpleRegLossRSS from HW7 to become function polyRegLossRSS, which calculates the residual sum of squares and the derivatives for the polyinomial regression. Also change your function plotPrediction to use polyRegPredict, instead of modelPredict. Then modify your simpleRegFit function to become polyRegFit(x,y,order), which takes the order of the polynomial fit as a third input argument. Call the function for a quadratic fit the harvest yield (y) as a function of fertilizer concentration (x)."
   ]
  },
  {
   "cell_type": "code",
   "execution_count": 5,
   "metadata": {},
   "outputs": [
    {
     "name": "stdout",
     "output_type": "stream",
     "text": [
      "R2 is 0.8749779836182523\n"
     ]
    },
    {
     "data": {
      "text/plain": [
       "array([ 0.1072418 ,  1.83439932, -0.1675627 ])"
      ]
     },
     "execution_count": 5,
     "metadata": {},
     "output_type": "execute_result"
    },
    {
     "data": {
      "image/png": "[encoded data removed]",
      "text/plain": [
       "<Figure size 432x288 with 1 Axes>"
      ]
     },
     "metadata": {
      "needs_background": "light"
     },
     "output_type": "display_data"
    }
   ],
   "source": [
    "def polyRegLossRSS(b,x,y):\n",
    "    predY = polyRegPredict(b,x)\n",
    "    res = y-predY\n",
    "    rss = sum(res**2)\n",
    "    grad=np.zeros(len(b))\n",
    "    for i in range(len(b)):\n",
    "        grad[i]=-2*np.sum((x**i)*res)\n",
    "    return (rss,grad)\n",
    "\n",
    "def plotPrediction(b,x,y,graph=True):\n",
    "    xp = np.linspace(min(x),max(x),num=50)\n",
    "    yp = polyRegPredict(b,xp)\n",
    "    if graph:\n",
    "        fig = plt.figure()\n",
    "        ax = fig.add_subplot(1,1,1)\n",
    "        ax.scatter(x,y)\n",
    "        ax.plot(xp,yp,'r')\n",
    "    return yp\n",
    "\n",
    "def polyRegFit(x,y,order,output=True):\n",
    "    RESULT = so.minimize(polyRegLossRSS, np.zeros((order+1,1)), args = (x,y), jac = True)\n",
    "    plotPrediction(RESULT.x,x,y,output)\n",
    "    TSS = sum((y - np.mean(y))**2)\n",
    "    RSS,grad = polyRegLossRSS(RESULT.x,x,y)\n",
    "    R2 = 1-(RSS/TSS)\n",
    "    if output:\n",
    "        print('R2 is',R2)\n",
    "    return RESULT.x\n",
    "    \n",
    "polyRegFit(df1.fertCon,df1.harvest,2)"
   ]
  },
  {
   "cell_type": "markdown",
   "metadata": {},
   "source": [
    "### Question 4 ( / 5 pts)\n",
    "Call you polyRegression function to produce a polynomial fit of order 8. What is the R2? "
   ]
  },
  {
   "cell_type": "code",
   "execution_count": 6,
   "metadata": {},
   "outputs": [
    {
     "name": "stdout",
     "output_type": "stream",
     "text": [
      "R2 is 0.9005923245190869\n"
     ]
    },
    {
     "data": {
      "text/plain": [
       "array([ 4.16162073e-01, -3.78282120e+00,  2.63109422e+01, -4.82474403e+01,\n",
       "        4.23940599e+01, -1.99300845e+01,  5.13629911e+00, -6.83983732e-01,\n",
       "        3.67807609e-02])"
      ]
     },
     "execution_count": 6,
     "metadata": {},
     "output_type": "execute_result"
    },
    {
     "data": {
      "image/png": "[encoded data removed]",
      "text/plain": [
       "<Figure size 432x288 with 1 Axes>"
      ]
     },
     "metadata": {
      "needs_background": "light"
     },
     "output_type": "display_data"
    }
   ],
   "source": [
    "polyRegFit(df1.fertCon,df1.harvest,8)"
   ]
  },
  {
   "cell_type": "markdown",
   "metadata": {},
   "source": [
    "## Task 3: Cross-validation of models ( / 40 pts)\n",
    "### Question 1 ( / 20 pts)\n",
    "Write a function leaveOneOutCV, which takes as inputs x and y, a function to be called for the fit, optional input arguments for the fit, and a function to be called for prediction. The function should then perform leave-on-out crossvalidation and calculate the cross-validated R2. It should then fit the model to all data and calculate the fitted R2. The sketch of the function can be found in the lecture. Call the function to get a cross-validated R2 for a polynomial fit of order 8. How much lower is the crossvalidated R2 than the fitted R2? "
   ]
  },
  {
   "cell_type": "code",
   "execution_count": 43,
   "metadata": {},
   "outputs": [
    {
     "name": "stdout",
     "output_type": "stream",
     "text": [
      "R2cv is 0.8509576342461673 and R2 is 0.9005923245190869\n"
     ]
    }
   ],
   "source": [
    "def leaveOneOutCV(x,y,fitFunc,predFunc,fitArgs=()):\n",
    "    yp=np.zeros(len(x))\n",
    "    for i in range(len(x)):\n",
    "        ind = np.arange(len(x))\n",
    "        ind = np.delete(ind,i)\n",
    "        xtrain = x[ind]\n",
    "        ytrain = y[ind]\n",
    "        b = fitFunc(xtrain,ytrain,fitArgs,output=False)\n",
    "        yp[i]=predFunc(b,x[i])\n",
    "    TSS = sum((y - np.mean(y))**2)\n",
    "    RSScv = sum((y-yp)**2)\n",
    "    R2cv = 1-(RSScv/TSS)\n",
    "    b = fitFunc(x,y,fitArgs,output=False)\n",
    "    yf = predFunc(b,x)\n",
    "    RSS = sum((y-yf)**2)\n",
    "    R2 = 1-(RSS/TSS)\n",
    "    return R2,R2cv\n",
    "R2,R2cv = leaveOneOutCV(df1.fertCon,df1.harvest,polyRegFit,polyRegPredict,fitArgs=8)\n",
    "print('R2cv is',R2cv,'and R2 is',R2)"
   ]
  },
  {
   "cell_type": "markdown",
   "metadata": {},
   "source": [
    "The cross validated R2 is about 0.05 less than the fitted R2."
   ]
  },
  {
   "cell_type": "markdown",
   "metadata": {},
   "source": [
    "### Question 2 ( / 20 pts)\n",
    "Run a loop from model order 0 (constant) to model order 8. For each polynomial model order, call you function leaveOneOutCV to get the crossvalidated R2 and the normal R2 for each model order. Make a plot where you show the line for the crossvalidated R2 and R2 as a function of model order. When is the best crossvalidated R2 reached? When does the model start overfitting? Which model would you use to make a prediction for an unobserved data point? "
   ]
  },
  {
   "cell_type": "code",
   "execution_count": 45,
   "metadata": {},
   "outputs": [
    {
     "name": "stdout",
     "output_type": "stream",
     "text": [
      "R2cv is -0.045971074380165344 and R2 is -2.220446049250313e-16 for order 0\n",
      "R2cv is 0.8281937042300891 and R2 is 0.8424280402361713 for order 1\n",
      "R2cv is 0.8591929622200054 and R2 is 0.8749779836182523 for order 2\n",
      "R2cv is 0.8536772943301223 and R2 is 0.8753913951668624 for order 3\n",
      "R2cv is 0.8479482333974127 and R2 is 0.875398569735774 for order 4\n",
      "R2cv is 0.8431176318551228 and R2 is 0.8775287083801129 for order 5\n",
      "R2cv is 0.8358563594008307 and R2 is 0.8776778526026783 for order 6\n",
      "R2cv is 0.842066078539536 and R2 is 0.8884139314238257 for order 7\n"
     ]
    },
    {
     "data": {
      "text/plain": [
       "[<matplotlib.lines.Line2D at 0x1c71ff06790>]"
      ]
     },
     "execution_count": 45,
     "metadata": {},
     "output_type": "execute_result"
    },
    {
     "data": {
      "image/png": "[encoded data removed]",
      "text/plain": [
       "<Figure size 432x288 with 1 Axes>"
      ]
     },
     "metadata": {
      "needs_background": "light"
     },
     "output_type": "display_data"
    }
   ],
   "source": [
    "R2points =  np.zeros(8)\n",
    "R2cvpoints =  np.zeros(8)\n",
    "for i in range(8):\n",
    "    R2,R2cv = leaveOneOutCV(df1.fertCon,df1.harvest,polyRegFit,polyRegPredict,fitArgs=i)\n",
    "    R2points[i]=R2\n",
    "    R2cvpoints[i]=R2cv\n",
    "    print('R2cv is',R2cv,'and R2 is',R2,'for order',i)\n",
    "\n",
    "xp = np.linspace(0,8,num=8)\n",
    "fig = plt.figure()\n",
    "ax = fig.add_subplot(1,1,1)\n",
    "ax.plot(xp,R2points,'r')\n",
    "ax.plot(xp,R2cvpoints,'b')"
   ]
  },
  {
   "cell_type": "markdown",
   "metadata": {
    "collapsed": true
   },
   "source": [
    ">The model starts overfitting at order 3 (down to 0.8536 from 0.859), so I would use order 2. Also, the fitted model seems to work better than the cross validated model."
   ]
  },
  {
   "cell_type": "code",
   "execution_count": null,
   "metadata": {},
   "outputs": [],
   "source": []
  }
 ],
 "metadata": {
  "kernelspec": {
   "display_name": "Python 3 (ipykernel)",
   "language": "python",
   "name": "python3"
  },
  "language_info": {
   "codemirror_mode": {
    "name": "ipython",
    "version": 3
   },
   "file_extension": ".py",
   "mimetype": "text/x-python",
   "name": "python",
   "nbconvert_exporter": "python",
   "pygments_lexer": "ipython3",
   "version": "3.9.7"
  }
 },
 "nbformat": 4,
 "nbformat_minor": 1
}
