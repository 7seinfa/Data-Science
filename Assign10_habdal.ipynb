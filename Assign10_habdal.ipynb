{
 "cells": [
  {
   "cell_type": "markdown",
   "metadata": {},
   "source": [
    "# Assignment 10: Regression with discrete variables\n",
    "## Learning Outcomes:\n",
    "This assignment introduces the use of discrete variables in regression analysis. Task 1 will use discrete variables as explanatory variables, in Task 2 we will use discrete variables as response variables and introduce logistic regression. \n",
    "\n",
    "## Data set \n",
    "Throught the assignment you will use the full possum.csv data set.  \n",
    "The data set includes measures from 104 possums that were caught in New Zealand in a field study. \n",
    "Variables: \n",
    "-\tsite: The site number where the possum was trapped.\n",
    "-\tpop: Population, either Vic (Victoria) or other (New South Wales or Queensland).\n",
    "-\tsex: Gender, either m (male) or f (female).\n",
    "-\tage: Age in years\n",
    "-\theadL: Head length, in mm.\n",
    "-\tskullW: Skull width, in mm.\n",
    "-\ttotalL: Total length, in cm.\n",
    "-\ttailL: Tail length, in cm.\n",
    "\n",
    "## Preliminaries\n",
    "Set up the environment by importing pandas, numpy, and matplotlib, scipy.optimize. This is already done in the preliminaries. Ensure that you have fully mastered all previous assignments (especially 8, 9) before starting the assignment. Import the regression functions that you used for the last homeworks. "
   ]
  },
  {
   "cell_type": "code",
   "execution_count": 1,
   "metadata": {},
   "outputs": [],
   "source": [
    "import matplotlib\n",
    "matplotlib.use('TkAgg')\n",
    "import matplotlib.pyplot as plt \n",
    "%matplotlib inline\n",
    "import scipy.optimize as so\n",
    "import pandas as pd \n",
    "import numpy as np\n",
    "import statsmodels.api as sm\n",
    "import statsmodels.formula.api as smf\n",
    "import seaborn as sns\n",
    "\n",
    "def multRegPredict(b,D,xname):\n",
    "    yp=np.ones(len(D.index))*b[0]        # Intercept \n",
    "    for i in range(len(xname)):          \n",
    "        yp=yp+D[xname[i]]*b[i+1]         # Add each regression value \n",
    "    return yp \n",
    "\n",
    "def multRegLossRSS(b,D,y,xname):\n",
    "    predY = multRegPredict(b,D,xname)\n",
    "    res = y-predY\n",
    "    rss = sum(res**2)\n",
    "    grad=np.zeros(len(b))\n",
    "    grad[0]=-2*np.sum(res)\n",
    "    for i in range(len(xname)):\n",
    "        grad[i+1]=-2*np.sum(D[xname[i]]*res)\n",
    "    return (rss,grad)\n",
    "\n",
    "def multRegFit(D,y,xname):\n",
    "    N=len(xname)\n",
    "    b0=np.zeros((N+1,1))\n",
    "    RES = so.minimize(multRegLossRSS,b0,args=(D,y,xname),jac=True)\n",
    "    if (not(RES.success)):\n",
    "        print('unsuccessful fit')\n",
    "        print(RES)\n",
    "    b=RES.x # Results\n",
    "    res = y-np.mean(y)\n",
    "    TSS = sum(res**2)\n",
    "    RSS,deriv = multRegLossRSS(b,D,y,xname)\n",
    "    R2 = 1-RSS/TSS \n",
    "    return (R2,b)\n",
    "\n",
    "def leaveOneOutCV(x,y,fitfcn=multRegFit,args=(),predictfcn=multRegPredict):\n",
    "    N = len(x) #Number of observations \n",
    "    yp= np.zeros(N)\n",
    "    ind = np.arange(N)\n",
    "    for i in range(N):\n",
    "        r,b,ax=fitfcn(x[ind!=i],y[ind!=i],args,fig=False)\n",
    "        yp[i]=predictfcn(b,x[i])\n",
    "    TSS  = sum((y-y.mean())**2)\n",
    "    RSScv = sum((y-yp)**2)\n",
    "    R2cv = 1-RSScv/TSS\n",
    "\n",
    "    # Get the model fit \n",
    "    r,b,ax=fitfcn(x,y,args)\n",
    "    yf=predictfcn(b,x)\n",
    "    RSS   = sum((y-yf)**2)\n",
    "    R2 = 1-RSS/TSS\n",
    "    return R2cv,R2 \n",
    "def bootstrapReg(D,y,args,fitfcn,numIter=1000):\n",
    "    r2,b=fitfcn(D,y,args)\n",
    "    numParams=len(b)\n",
    "    N = len(D.index)\n",
    "    ind  = np.arange(N)\n",
    "    stats = np.zeros((numIter,numParams))\n",
    "    for i in range(numIter):\n",
    "        sample=np.random.choice(ind,N)\n",
    "        r2,stats[i,:]=fitfcn(D.iloc[sample],y[sample],args)\n",
    "    return stats\n",
    "\n",
    "def confidenceInt(data,perc):\n",
    "    Int=(np.percentile(data,(100-perc)/2),np.percentile(data,100-(100-perc)/2))\n",
    "    return Int"
   ]
  },
  {
   "cell_type": "markdown",
   "metadata": {},
   "source": [
    "## Task 1: Discrete predictor variables\n",
    "\n",
    "### Question 1 (5 pt)\n",
    "Load the data set possum.csv. \n",
    "Generate 3 new columns in the data frame: \n",
    "- bodyL: The length of the main body (totalL - tailL) \n",
    "- popI:  Population identifier, 0: if pop is 'other', 1: if pop is 'Vic'\n",
    "- sexI:  Sex indentifier, 0: if sex is 'm', 1: if sex is 'f'\n",
    "Use your function multRegression to run a regression analysis of bodyL (response variable) against sexI (explanatory variable). Make a plot (with labeled axes) that show sex on the x-axis and body length on the y axis. Add the prediction line from the regression. "
   ]
  },
  {
   "cell_type": "code",
   "execution_count": 2,
   "metadata": {},
   "outputs": [
    {
     "data": {
      "text/plain": [
       "Text(0, 0.5, 'Body Length')"
      ]
     },
     "execution_count": 2,
     "metadata": {},
     "output_type": "execute_result"
    },
    {
     "data": {
      "image/png": "[encoded data removed]",
      "text/plain": [
       "<Figure size 432x288 with 1 Axes>"
      ]
     },
     "metadata": {
      "needs_background": "light"
     },
     "output_type": "display_data"
    }
   ],
   "source": [
    "df = pd.read_csv('possum.csv')\n",
    "df['bodyL'] = df.totalL-df.tailL\n",
    "df['popl'] = df['pop']=='Vic'\n",
    "df['sexl'] = df['sex']=='f'\n",
    "df['popl'] = np.double(df['popl'])\n",
    "df['sexl'] = np.double(df['sexl'])\n",
    "\n",
    "R2, b = multRegFit(df,df.bodyL,['sexl'])\n",
    "# 1. plot the scatter plot\n",
    "plt.scatter(df['sexl'], df['bodyL'])\n",
    "# 2. get the predicted values\n",
    "yp = multRegPredict(b, df, ['sexl'])\n",
    "plt.plot(df['sexl'], yp, color = 'r')\n",
    "plt.xlabel('Sex')\n",
    "plt.ylabel('Body Length')"
   ]
  },
  {
   "cell_type": "markdown",
   "metadata": {},
   "source": [
    "### Question 2 (10pt)\n",
    "Use boostrap to estimate a 95% confidence interval on the regression parameter of sex as a explanatory variable for body length. Report the interval. Can you reject the null-hypothesis that body length in possums does not differ between the sexes?  "
   ]
  },
  {
   "cell_type": "code",
   "execution_count": 3,
   "metadata": {},
   "outputs": [
    {
     "data": {
      "text/plain": [
       "(49.56885245901639, 50.802325581395344)"
      ]
     },
     "execution_count": 3,
     "metadata": {},
     "output_type": "execute_result"
    }
   ],
   "source": [
    "confidenceInt(yp,95)"
   ]
  },
  {
   "cell_type": "markdown",
   "metadata": {},
   "source": [
    "> Yes, we reject the null hypothesis."
   ]
  },
  {
   "cell_type": "markdown",
   "metadata": {},
   "source": [
    "### Question 3 (10pt)\n",
    "Make a scatter plot of age (x-axis) against body length (y-axis), with male and female possums shown in different colors. \n",
    "You can do this by plotting two scatter plots sequentially - each time selecting either male or female possums. The second one will simply add points in a different color to the first plot.  \n",
    "\n",
    "Estimate a multiple regression model that explains bodyL as a function of age and sex. What is the R2-value? \n",
    "\n",
    "Get the predicted values from the regression, and plot the predicted values in the same graph seperately for male and female possums. "
   ]
  },
  {
   "cell_type": "code",
   "execution_count": 4,
   "metadata": {},
   "outputs": [
    {
     "name": "stdout",
     "output_type": "stream",
     "text": [
      "R2 is 0.08543037213506444\n"
     ]
    },
    {
     "data": {
      "text/plain": [
       "Text(0.5, 0, 'Body Length')"
      ]
     },
     "execution_count": 4,
     "metadata": {},
     "output_type": "execute_result"
    },
    {
     "data": {
      "image/png": "[encoded data removed]",
      "text/plain": [
       "<Figure size 432x288 with 1 Axes>"
      ]
     },
     "metadata": {
      "needs_background": "light"
     },
     "output_type": "display_data"
    }
   ],
   "source": [
    "R2, b = multRegFit(df,df.bodyL,['sexl','age'])\n",
    "print('R2 is',R2)\n",
    "yp = multRegPredict(b, df, ['sexl','age'])\n",
    "\n",
    "plt.scatter(df[df.sexl==1]['age'],df[df.sexl==1]['bodyL'])\n",
    "plt.scatter(df[df.sexl==0]['age'],df[df.sexl==0]['bodyL'], color = 'red')\n",
    "plt.scatter(df[df.sexl==1]['age'], yp[df.sexl==1], color = 'purple')\n",
    "plt.scatter(df[df.sexl==0]['age'], yp[df.sexl==0], color = 'orange')\n",
    "plt.xlabel('Age')\n",
    "plt.xlabel('Body Length')"
   ]
  },
  {
   "cell_type": "markdown",
   "metadata": {},
   "source": []
  },
  {
   "cell_type": "markdown",
   "metadata": {},
   "source": [
    "### Question 4 (7pt)\n",
    "Run a bootstrap analysis on the bodyL ~ age + sexI regression model. Report the 95% confidence interval for the regression parameters of sex and age on body length. Is the effect of age onto body length significant in the context of the model? How about the relationship between sex and body length?  \n"
   ]
  },
  {
   "cell_type": "code",
   "execution_count": 225,
   "metadata": {},
   "outputs": [
    {
     "name": "stdout",
     "output_type": "stream",
     "text": [
      "unsuccessful fit\n",
      "      fun: 1001.563291651619\n",
      " hess_inv: array([[ 0.03115369, -0.00523362, -0.01041859],\n",
      "       [-0.00523362,  0.00127173,  0.00019512],\n",
      "       [-0.01041859,  0.00019512,  0.01926229]])\n",
      "      jac: array([-5.10920371e-06, -2.80060151e-05, -3.24851516e-06])\n",
      "  message: 'Desired error not necessarily achieved due to precision loss.'\n",
      "     nfev: 11\n",
      "      nit: 8\n",
      "     njev: 11\n",
      "   status: 2\n",
      "  success: False\n",
      "        x: array([47.01864017,  0.60154537,  0.45408389])\n"
     ]
    },
    {
     "data": {
      "text/plain": [
       "(0.040275634131571154, 49.19603062654442)"
      ]
     },
     "execution_count": 225,
     "metadata": {},
     "output_type": "execute_result"
    }
   ],
   "source": [
    "boot = bootstrapReg(df,df.bodyL,['age','sexl'],multRegFit)\n",
    "confidenceInt(boot,95)"
   ]
  },
  {
   "cell_type": "markdown",
   "metadata": {},
   "source": [
    "> Because the interval doesn't include 0, it is significant"
   ]
  },
  {
   "cell_type": "markdown",
   "metadata": {},
   "source": [
    "### Question 5 (10pt)\n",
    "Estimate a multiple regression model that explains bodyL as a function of age and population (Vic vs. other). What is the R2-value? Make a scatter plot like for Question 3, but this time splitting the data for the two populations, rather than based on sex. Which of the two population (Vic or other) is larger? How do you interpret the value of the regression coefficient for popI? "
   ]
  },
  {
   "cell_type": "code",
   "execution_count": 6,
   "metadata": {},
   "outputs": [
    {
     "name": "stdout",
     "output_type": "stream",
     "text": [
      "R2 is 0.17974517849498572\n"
     ]
    },
    {
     "data": {
      "text/plain": [
       "Text(0.5, 0, 'Body Length')"
      ]
     },
     "execution_count": 6,
     "metadata": {},
     "output_type": "execute_result"
    },
    {
     "data": {
      "image/png": "[encoded data removed]",
      "text/plain": [
       "<Figure size 432x288 with 1 Axes>"
      ]
     },
     "metadata": {
      "needs_background": "light"
     },
     "output_type": "display_data"
    }
   ],
   "source": [
    "R2, b = multRegFit(df,df.bodyL,['popl','age'])\n",
    "print('R2 is',R2)\n",
    "yp = multRegPredict(b, df, ['popl','age'])\n",
    "\n",
    "plt.scatter(df[df.popl==1]['age'],df[df.popl==1]['bodyL'])\n",
    "plt.scatter(df[df.popl==0]['age'],df[df.popl==0]['bodyL'], color = 'red')\n",
    "plt.scatter(df[df.popl==1]['age'], yp[df.popl==1], color = 'purple')\n",
    "plt.scatter(df[df.popl==0]['age'], yp[df.popl==0], color = 'orange')\n",
    "plt.xlabel('Age')\n",
    "plt.xlabel('Body Length')"
   ]
  },
  {
   "cell_type": "markdown",
   "metadata": {},
   "source": [
    "### Question 6 (8pt)\n",
    "Run a bootstrap analysis on the bodyL ~ age + popI regression model. Report the 95% confidence interval for the regression parameters of popI and age on body length. Is the effect of age onto body length significant in the context of the model? How about the relationship between population and body length? \n"
   ]
  },
  {
   "cell_type": "code",
   "execution_count": 7,
   "metadata": {},
   "outputs": [
    {
     "data": {
      "text/plain": [
       "(0.19356001713960547, 48.49725148141724)"
      ]
     },
     "execution_count": 7,
     "metadata": {},
     "output_type": "execute_result"
    }
   ],
   "source": [
    "boot0 = bootstrapReg(df,df.bodyL,['age','popl'],multRegFit)\n",
    "confidenceInt(boot0,95)"
   ]
  },
  {
   "cell_type": "markdown",
   "metadata": {},
   "source": [
    "> Because the interval doesn't include 0, it is significant"
   ]
  },
  {
   "cell_type": "markdown",
   "metadata": {},
   "source": [
    "## Task 2: Discrete response variable\n",
    "In this task we will investigate regression models in which the response variable is a discrete, dichotomous variable. \n",
    "### Question 1: Logistic Function (10pt)\n",
    "Starting with your function for multRegPredict, write a function logisticRegPredict(b,D,xname). As inputs it should take the \n",
    "- b: np-array of regression coefficients (the first one being the intercept)\n",
    "- D: Data frame\n",
    "- xname: a list of column names (in D) that are being used as regressors. \n",
    "\n",
    "The function should first calculate a = b[0] + b[1] * D[xname[0]] + b[2] * D[xname[1]] \n",
    "and then return the logistic function of a. \n",
    "\n",
    "Then make a Data frame with a single column with the values from -4 to 4 (in small steps). Plot the logistic function for the parameter values: \n",
    "- b = [0,0]\n",
    "- b = [0,1]\n",
    "- b = [0,2]\n",
    "- b = [0,-2]\n",
    "\n",
    "What happens as the slope value changes? \n",
    "\n",
    "Then plot the logistic function for the parameter values: \n",
    "- b = [0,2]\n",
    "- b = [1,2]\n",
    "- b = [2,2]\n",
    "- b = [-2,2]\n",
    "\n",
    "What happens as the intercept value changes? For each value - where does the predicted line cross p=0.5? \n",
    "\n"
   ]
  },
  {
   "cell_type": "code",
   "execution_count": 224,
   "metadata": {},
   "outputs": [
    {
     "data": {
      "image/png": "[encoded data removed]",
      "text/plain": [
       "<Figure size 432x288 with 1 Axes>"
      ]
     },
     "metadata": {
      "needs_background": "light"
     },
     "output_type": "display_data"
    },
    {
     "data": {
      "image/png": "[encoded data removed]",
      "text/plain": [
       "<Figure size 432x288 with 1 Axes>"
      ]
     },
     "metadata": {
      "needs_background": "light"
     },
     "output_type": "display_data"
    }
   ],
   "source": [
    "def logisticRegPredict(b,D,xname):\n",
    "    # Start out with the intercept\n",
    "    a = np.ones(len(D.index))*b[0]\n",
    "    # Add the prediction of each regressor\n",
    "    for i in range(len(xname)):\n",
    "        a = a + D[xname[i]] * b[i+1] \n",
    "    yp = 1 / (1 + np.exp(-a)) # Logistic function of a\n",
    "    return yp\n",
    "\n",
    "data = [-4,-3,-2,-1,0,1,2,3,4]\n",
    "df1 = pd.DataFrame(data=data)\n",
    "p00 = logisticRegPredict([0,0],df1,[0])\n",
    "p01 = logisticRegPredict([0,1],df1,[0])\n",
    "p02 = logisticRegPredict([0,2],df1,[0])\n",
    "p03 = logisticRegPredict([0,-2],df1,[0])\n",
    "\n",
    "plt.plot(data, p00)\n",
    "plt.plot(data, p01)\n",
    "plt.plot(data, p02)\n",
    "plt.plot(data, p03)\n",
    "plt.show()\n",
    "\n",
    "p10 = logisticRegPredict([0,2],df1,[0])\n",
    "p11 = logisticRegPredict([1,2],df1,[0])\n",
    "p12 = logisticRegPredict([2,2],df1,[0])\n",
    "p13 = logisticRegPredict([-2,2],df1,[0])\n",
    "plt.plot(data, p10)\n",
    "plt.plot(data, p11)\n",
    "plt.plot(data, p12)\n",
    "plt.plot(data, p13)\n",
    "plt.show()"
   ]
  },
  {
   "cell_type": "markdown",
   "metadata": {},
   "source": [
    "What happens as the slope value changes?\n",
    "> As slope value changes, the steepness of the model to cross 0.5 in the middle changes\n",
    "\n",
    "What happens as the intercept value changes? For each value - where does the predicted line cross p=0.5?\n",
    "> It changes the location of where it begins changing. For 0 it crosses 0.5 at 0, for 1 it crosses 0.5 at about -0.5, for 2 it crosses 0 at about -1.25, and at -2 it crosses 0 at about 1.25"
   ]
  },
  {
   "cell_type": "markdown",
   "metadata": {},
   "source": [
    "### Question 2 (10pt)\n",
    "Make a Scatterplot of tail length (as a x-variable) against popI (Population, 1:Victoria 0:other). \n",
    "Written answer: What relationship can you see? \n"
   ]
  },
  {
   "cell_type": "code",
   "execution_count": 61,
   "metadata": {},
   "outputs": [
    {
     "data": {
      "text/plain": [
       "<matplotlib.collections.PathCollection at 0x23089841ac0>"
      ]
     },
     "execution_count": 61,
     "metadata": {},
     "output_type": "execute_result"
    },
    {
     "data": {
      "image/png": "[encoded data removed]",
      "text/plain": [
       "<Figure size 432x288 with 1 Axes>"
      ]
     },
     "metadata": {
      "needs_background": "light"
     },
     "output_type": "display_data"
    }
   ],
   "source": [
    "plt.scatter(df.tailL,df.popl)"
   ]
  },
  {
   "cell_type": "markdown",
   "metadata": {},
   "source": [
    "> The higher the tailL, the more likely popL will be 0"
   ]
  },
  {
   "cell_type": "markdown",
   "metadata": {},
   "source": [
    "### Question 3 (10pt)\n",
    "Write a function logisticRegLoss(b,D,y,name) that calculates the Loss function for the logistic regression (negative log-likelihood, see lecture). The function should call logisticRegPredict to get the prediction, and then calculate the Loss and the derivative of the loss in respect to all regression paramaters. The function should be able to use multiple regressors (like multRegLossRSS from previous homeworks).    \n",
    "\n",
    "Report the negative log likelihood (and derivates) for a logistic regression model that predicts popI as a function of tailL: \n",
    "- for the parameter values [0,0]\n",
    "- for the parameter values [17.5,-0.5]\n",
    "- for the parameter values [25.56,-0.7]\n",
    "\n",
    "Which one is the best parameter setting of the three? "
   ]
  },
  {
   "cell_type": "code",
   "execution_count": 62,
   "metadata": {},
   "outputs": [
    {
     "name": "stdout",
     "output_type": "stream",
     "text": [
      "(72.08730677823438, array([  6. , 271.5]))\n",
      "(63.01497836859202, array([ -14.65999642, -527.46450906]))\n",
      "(56.72412770882332, array([ -0.37160079, -13.678462  ]))\n"
     ]
    }
   ],
   "source": [
    "def logisticRegLoss(b,D,y,xname):\n",
    "    p = logisticRegPredict(b,D,xname)\n",
    "    loss = -sum(y*np.log(np.abs(p))+(1-y)*np.log(np.abs(1-p)))\n",
    "    N=len(xname) # Number of regressors\n",
    "    grad=np.zeros(N+1) \n",
    "    res = y-p # Residuals\n",
    "    grad[0]= -sum(res) # Gradient for b0\n",
    "    for i in range(N):\n",
    "        grad[i+1]= -sum(res*D[xname[i]])\n",
    "    return (loss,grad)\n",
    "\n",
    "print(logisticRegLoss([0,0],df,df.popl,['tailL']))\n",
    "print(logisticRegLoss([17.5,-0.5],df,df.popl,['tailL']))\n",
    "print(logisticRegLoss([25.56,-0.7],df,df.popl,['tailL']))"
   ]
  },
  {
   "cell_type": "markdown",
   "metadata": {},
   "source": [
    "> The best parameter of the three is [25.56,-0.7]"
   ]
  },
  {
   "cell_type": "markdown",
   "metadata": {},
   "source": [
    "### Question 4 (10pt)\n",
    "Write a function logisticRegFit(D,y,xname,figure=True) that fits the logistic model by minimizing the above Loss function. \n",
    "- D: A data frame with the explanatory variables \n",
    "- y: A dichotomous (0 or 1) response variable \n",
    "- xname: Names of x variables to be used \n",
    "- figure: Flag (True / False) indicating if the code should produce a figure. \n",
    "When there is only one x-variable, and figure==True, then function should produce a scatter plot of the data and the predicted values. \n",
    "\n",
    "The function should return the log-likelihood of the data under the best model and the best fitting (maximum liklihood) estimates of b. Remember that the function value you are minimizing is the *negative* log-likelihood, and the best fitting value is stored in RES.fun\n",
    "\n",
    "Fit a logistic regression model that predicts popI as a function of tailL. Make sure the function generates a plot. Report log-likelihood and b-values. "
   ]
  },
  {
   "cell_type": "code",
   "execution_count": 215,
   "metadata": {},
   "outputs": [
    {
     "name": "stdout",
     "output_type": "stream",
     "text": [
      "LL is 56.72051579544123 and b is [25.56620437 -0.69964061]\n"
     ]
    },
    {
     "data": {
      "image/png": "[encoded data removed]",
      "text/plain": [
       "<Figure size 432x288 with 1 Axes>"
      ]
     },
     "metadata": {
      "needs_background": "light"
     },
     "output_type": "display_data"
    }
   ],
   "source": [
    "def logisticRegFit(D,y,xname,figure=True):\n",
    "    RESULT = so.minimize(logisticRegLoss, np.zeros(len(xname)+1), args = (D,y,xname), jac = True)\n",
    "    TSS = sum((y - np.mean(y))**2)\n",
    "    RSS,grad = logisticRegLoss(RESULT.x,D,y,xname)\n",
    "    R2 = 1-(RSS/TSS)\n",
    "    if figure:\n",
    "        plt.scatter(D[xname].sum(axis=1)/len(xname),y)\n",
    "        entries = []\n",
    "        for i in range(len(xname)):\n",
    "            entries.append(np.linspace(min(D[xname[i]]), max(D[xname[i]]), len(D[xname[i]])))\n",
    "        D_p = pd.DataFrame(entries).transpose()\n",
    "        D_p = D_p.set_axis(xname, axis=1)\n",
    "        plt.plot(D_p.sum(axis=1)/len(D_p.columns),logisticRegPredict(RESULT.x,D_p,xname))\n",
    "    return RESULT.fun, RESULT.x\n",
    "\n",
    "LL, b = logisticRegFit(df,df.popl,['tailL'])\n",
    "print(\"LL is\",LL,\"and b is\",b)"
   ]
  },
  {
   "cell_type": "markdown",
   "metadata": {},
   "source": [
    "### Question 5 (10pt)\n",
    "Now fit the model explaing popI from tailL and bodyL in a multiple logistic regression model. Report the log-likelihood and parameter values. Is the fit better than tailL alone? \n",
    "\n",
    "Also fit the model explaing popI from tailL and totalL in a multiple logistic regression model. Again, report the log-likelihood and parameter values. \n",
    "\n",
    "What do you observe in terms of log-likelihood and in terms of paramters? Why do these two models yield exactly the same log-liklihood? "
   ]
  },
  {
   "cell_type": "code",
   "execution_count": 216,
   "metadata": {},
   "outputs": [
    {
     "name": "stdout",
     "output_type": "stream",
     "text": [
      "tailL+bodyL: LL is 43.20463551583587 and b is [16.57735312 -0.98846114  0.39180167]\n"
     ]
    },
    {
     "data": {
      "image/png": "[encoded data removed]",
      "text/plain": [
       "<Figure size 432x288 with 1 Axes>"
      ]
     },
     "metadata": {
      "needs_background": "light"
     },
     "output_type": "display_data"
    },
    {
     "name": "stdout",
     "output_type": "stream",
     "text": [
      "bodyL: LL is 64.07423950076063 and b is [-11.99811219   0.23409582]\n"
     ]
    },
    {
     "data": {
      "image/png": "[encoded data removed]",
      "text/plain": [
       "<Figure size 432x288 with 1 Axes>"
      ]
     },
     "metadata": {
      "needs_background": "light"
     },
     "output_type": "display_data"
    }
   ],
   "source": [
    "LL, b = logisticRegFit(df,df.popl,['tailL','bodyL'])\n",
    "print(\"tailL+bodyL: LL is\",LL,\"and b is\",b)\n",
    "plt.show()\n",
    "LL, b = logisticRegFit(df,df.popl,['bodyL'])\n",
    "print(\"bodyL: LL is\",LL,\"and b is\",b)"
   ]
  },
  {
   "cell_type": "markdown",
   "metadata": {},
   "source": [
    ">Mine don't yield the same, and it looks inverted"
   ]
  },
  {
   "cell_type": "code",
   "execution_count": null,
   "metadata": {},
   "outputs": [],
   "source": []
  }
 ],
 "metadata": {
  "kernelspec": {
   "display_name": "Python 3 (ipykernel)",
   "language": "python",
   "name": "python3"
  },
  "language_info": {
   "codemirror_mode": {
    "name": "ipython",
    "version": 3
   },
   "file_extension": ".py",
   "mimetype": "text/x-python",
   "name": "python",
   "nbconvert_exporter": "python",
   "pygments_lexer": "ipython3",
   "version": "3.9.7"
  }
 },
 "nbformat": 4,
 "nbformat_minor": 1
}
