{
 "cells": [
  {
   "cell_type": "markdown",
   "metadata": {
    "collapsed": true
   },
   "source": [
    "# Assignment 4: Permutation test 1\n",
    "## Learning Outcomes\n",
    "By completing this assignment, you will be able to implement and use randomization tests to determine whether a specific effect is statistically significant. Randomization tests are a highly universal and powerful way to do this, and form an essential part of the toolkit of any Data Scientist. \n",
    "\n",
    "## Problem Description\n",
    "An increasingly common statistical tool for determining whether a difference is significant is the randomization or permutation test. A randomization test builds - rather than assumes – a sampling distribution of the test statistics. This is achieved by exchanging or permuting variables which are “exchangeable” under the Null-hypothesis. A randomization test gives a simple way to compute the sampling distribution for any test statistic under the null hypothesis that the dependent variable is statistically not dependent on the shuffled variable. \n",
    "In this assignment, we continue with the movie dataset from last week. This week your main task is to determine whether the difference in proportion for female vs. male directors to direct action movies is significant. \n",
    "You are allowed to use standard numpy and pandas functions such as mean, groupby, shuffle. But you are not allowed to use a permutation functions that have been already been designed. Numeric calculations in python that are printed should be rounded to 6 decimal places. \n",
    "\n",
    "Methods that you may find beneficial. \n",
    "Pandas: crosstab, iloc. Numpy: random.shuffle, reset_index, matplotlib: hist, axvline \n",
    "\n",
    "## Preliminaries \n",
    "Import pandas, numpy, matplotlib, and load the dataset file"
   ]
  },
  {
   "cell_type": "code",
   "execution_count": 74,
   "metadata": {},
   "outputs": [
    {
     "data": {
      "text/html": [
       "<div>\n",
       "<style scoped>\n",
       "    .dataframe tbody tr th:only-of-type {\n",
       "        vertical-align: middle;\n",
       "    }\n",
       "\n",
       "    .dataframe tbody tr th {\n",
       "        vertical-align: top;\n",
       "    }\n",
       "\n",
       "    .dataframe thead th {\n",
       "        text-align: right;\n",
       "    }\n",
       "</style>\n",
       "<table border=\"1\" class=\"dataframe\">\n",
       "  <thead>\n",
       "    <tr style=\"text-align: right;\">\n",
       "      <th></th>\n",
       "      <th>Unnamed: 0</th>\n",
       "      <th>boxoff</th>\n",
       "      <th>prodcost</th>\n",
       "      <th>dirIncome</th>\n",
       "      <th>dirGender</th>\n",
       "      <th>year</th>\n",
       "      <th>month</th>\n",
       "      <th>genre</th>\n",
       "      <th>numTheatres</th>\n",
       "    </tr>\n",
       "  </thead>\n",
       "  <tbody>\n",
       "    <tr>\n",
       "      <th>0</th>\n",
       "      <td>0</td>\n",
       "      <td>88.648583</td>\n",
       "      <td>44.742936</td>\n",
       "      <td>1.143234</td>\n",
       "      <td>male</td>\n",
       "      <td>2012</td>\n",
       "      <td>3</td>\n",
       "      <td>comedy</td>\n",
       "      <td>139</td>\n",
       "    </tr>\n",
       "    <tr>\n",
       "      <th>1</th>\n",
       "      <td>1</td>\n",
       "      <td>145.334924</td>\n",
       "      <td>38.835516</td>\n",
       "      <td>3.393535</td>\n",
       "      <td>female</td>\n",
       "      <td>2014</td>\n",
       "      <td>11</td>\n",
       "      <td>drama</td>\n",
       "      <td>213</td>\n",
       "    </tr>\n",
       "    <tr>\n",
       "      <th>2</th>\n",
       "      <td>2</td>\n",
       "      <td>238.265684</td>\n",
       "      <td>29.532283</td>\n",
       "      <td>2.418883</td>\n",
       "      <td>male</td>\n",
       "      <td>2015</td>\n",
       "      <td>6</td>\n",
       "      <td>other</td>\n",
       "      <td>100</td>\n",
       "    </tr>\n",
       "    <tr>\n",
       "      <th>3</th>\n",
       "      <td>3</td>\n",
       "      <td>212.714742</td>\n",
       "      <td>157.111899</td>\n",
       "      <td>2.034115</td>\n",
       "      <td>male</td>\n",
       "      <td>2014</td>\n",
       "      <td>10</td>\n",
       "      <td>adventure</td>\n",
       "      <td>436</td>\n",
       "    </tr>\n",
       "    <tr>\n",
       "      <th>4</th>\n",
       "      <td>4</td>\n",
       "      <td>120.175461</td>\n",
       "      <td>30.547155</td>\n",
       "      <td>0.963219</td>\n",
       "      <td>female</td>\n",
       "      <td>2012</td>\n",
       "      <td>1</td>\n",
       "      <td>comedy</td>\n",
       "      <td>115</td>\n",
       "    </tr>\n",
       "    <tr>\n",
       "      <th>...</th>\n",
       "      <td>...</td>\n",
       "      <td>...</td>\n",
       "      <td>...</td>\n",
       "      <td>...</td>\n",
       "      <td>...</td>\n",
       "      <td>...</td>\n",
       "      <td>...</td>\n",
       "      <td>...</td>\n",
       "      <td>...</td>\n",
       "    </tr>\n",
       "    <tr>\n",
       "      <th>245</th>\n",
       "      <td>245</td>\n",
       "      <td>187.231562</td>\n",
       "      <td>72.743712</td>\n",
       "      <td>3.105438</td>\n",
       "      <td>male</td>\n",
       "      <td>2012</td>\n",
       "      <td>12</td>\n",
       "      <td>adventure</td>\n",
       "      <td>366</td>\n",
       "    </tr>\n",
       "    <tr>\n",
       "      <th>246</th>\n",
       "      <td>246</td>\n",
       "      <td>215.713195</td>\n",
       "      <td>136.851707</td>\n",
       "      <td>1.917771</td>\n",
       "      <td>male</td>\n",
       "      <td>2013</td>\n",
       "      <td>7</td>\n",
       "      <td>adventure</td>\n",
       "      <td>285</td>\n",
       "    </tr>\n",
       "    <tr>\n",
       "      <th>247</th>\n",
       "      <td>247</td>\n",
       "      <td>166.827002</td>\n",
       "      <td>50.684470</td>\n",
       "      <td>2.414571</td>\n",
       "      <td>male</td>\n",
       "      <td>2014</td>\n",
       "      <td>1</td>\n",
       "      <td>other</td>\n",
       "      <td>233</td>\n",
       "    </tr>\n",
       "    <tr>\n",
       "      <th>248</th>\n",
       "      <td>248</td>\n",
       "      <td>223.226998</td>\n",
       "      <td>40.103513</td>\n",
       "      <td>2.176928</td>\n",
       "      <td>male</td>\n",
       "      <td>2015</td>\n",
       "      <td>2</td>\n",
       "      <td>drama</td>\n",
       "      <td>489</td>\n",
       "    </tr>\n",
       "    <tr>\n",
       "      <th>249</th>\n",
       "      <td>249</td>\n",
       "      <td>123.511036</td>\n",
       "      <td>48.287595</td>\n",
       "      <td>2.315791</td>\n",
       "      <td>male</td>\n",
       "      <td>2012</td>\n",
       "      <td>7</td>\n",
       "      <td>comedy</td>\n",
       "      <td>251</td>\n",
       "    </tr>\n",
       "  </tbody>\n",
       "</table>\n",
       "<p>250 rows × 9 columns</p>\n",
       "</div>"
      ],
      "text/plain": [
       "     Unnamed: 0      boxoff    prodcost  dirIncome dirGender  year  month  \\\n",
       "0             0   88.648583   44.742936   1.143234      male  2012      3   \n",
       "1             1  145.334924   38.835516   3.393535    female  2014     11   \n",
       "2             2  238.265684   29.532283   2.418883      male  2015      6   \n",
       "3             3  212.714742  157.111899   2.034115      male  2014     10   \n",
       "4             4  120.175461   30.547155   0.963219    female  2012      1   \n",
       "..          ...         ...         ...        ...       ...   ...    ...   \n",
       "245         245  187.231562   72.743712   3.105438      male  2012     12   \n",
       "246         246  215.713195  136.851707   1.917771      male  2013      7   \n",
       "247         247  166.827002   50.684470   2.414571      male  2014      1   \n",
       "248         248  223.226998   40.103513   2.176928      male  2015      2   \n",
       "249         249  123.511036   48.287595   2.315791      male  2012      7   \n",
       "\n",
       "         genre  numTheatres  \n",
       "0       comedy          139  \n",
       "1        drama          213  \n",
       "2        other          100  \n",
       "3    adventure          436  \n",
       "4       comedy          115  \n",
       "..         ...          ...  \n",
       "245  adventure          366  \n",
       "246  adventure          285  \n",
       "247      other          233  \n",
       "248      drama          489  \n",
       "249     comedy          251  \n",
       "\n",
       "[250 rows x 9 columns]"
      ]
     },
     "execution_count": 74,
     "metadata": {},
     "output_type": "execute_result"
    }
   ],
   "source": [
    "import pandas as pd\n",
    "import numpy as np\n",
    "import matplotlib\n",
    "matplotlib.use('TkAgg')\n",
    "import matplotlib.pyplot as plt\n",
    "%matplotlib inline\n",
    "\n",
    "df = pd.read_csv('movieDataset.csv')"
   ]
  },
  {
   "cell_type": "markdown",
   "metadata": {
    "scrolled": true
   },
   "source": [
    "## TASK 1: Defining the test statistics (40pts)\n",
    "### Question 1 - Create contingency table of adventure (yes/no) by director gender (10pts)\n",
    "Generate a cross-tabulation table of the 2x2 proportions of directorGender vs. whether the movie is an adventure or not (all other genres should be combined into non-adventure movies)."
   ]
  },
  {
   "cell_type": "code",
   "execution_count": 50,
   "metadata": {},
   "outputs": [
    {
     "data": {
      "text/html": [
       "<div>\n",
       "<style scoped>\n",
       "    .dataframe tbody tr th:only-of-type {\n",
       "        vertical-align: middle;\n",
       "    }\n",
       "\n",
       "    .dataframe tbody tr th {\n",
       "        vertical-align: top;\n",
       "    }\n",
       "\n",
       "    .dataframe thead th {\n",
       "        text-align: right;\n",
       "    }\n",
       "</style>\n",
       "<table border=\"1\" class=\"dataframe\">\n",
       "  <thead>\n",
       "    <tr style=\"text-align: right;\">\n",
       "      <th>genre</th>\n",
       "      <th>non-adventure movies</th>\n",
       "      <th>adventure movies</th>\n",
       "    </tr>\n",
       "    <tr>\n",
       "      <th>dirGender</th>\n",
       "      <th></th>\n",
       "      <th></th>\n",
       "    </tr>\n",
       "  </thead>\n",
       "  <tbody>\n",
       "    <tr>\n",
       "      <th>female</th>\n",
       "      <td>31</td>\n",
       "      <td>6</td>\n",
       "    </tr>\n",
       "    <tr>\n",
       "      <th>male</th>\n",
       "      <td>155</td>\n",
       "      <td>58</td>\n",
       "    </tr>\n",
       "  </tbody>\n",
       "</table>\n",
       "</div>"
      ],
      "text/plain": [
       "genre      non-adventure movies  adventure movies\n",
       "dirGender                                        \n",
       "female                       31                 6\n",
       "male                        155                58"
      ]
     },
     "execution_count": 50,
     "metadata": {},
     "output_type": "execute_result"
    }
   ],
   "source": [
    "ctable = pd.crosstab(df['dirGender'], df['genre'] == 'adventure')\n",
    "ctable.columns = ['non-adventure movies','adventure movies']\n",
    "ctable.columns.name = 'genre'\n",
    "ctable"
   ]
  },
  {
   "cell_type": "markdown",
   "metadata": {},
   "source": [
    "### Question 2 - Calculate p(adventure|female)-p(adventure|male) (20pts)\n",
    "Calculate the probability that the movie is an adventure given that the director Gender is female, p(adventure|female), the probability of the movie is an adventure given that the director Gender is male, p(adventure|male), as well as the difference between these two numbers, p(adventure|female)- p(adventure|male) (for help, see solution to homework 2)."
   ]
  },
  {
   "cell_type": "code",
   "execution_count": 82,
   "metadata": {},
   "outputs": [
    {
     "name": "stdout",
     "output_type": "stream",
     "text": [
      "The probability that the movie is an adventure given that the director Gender is female is 0.16216216216216217\n",
      "The probability that the movie is an adventure given that the director Gender is male is 0.27230046948356806\n",
      "The difference is -0.11013830732140589\n"
     ]
    }
   ],
   "source": [
    "ctable = pd.crosstab(df['dirGender'], df['genre'] == 'adventure',margins=True)\n",
    "ctable.columns = ['non-adventure movies','adventure movies','All']\n",
    "ctable.columns.name = 'genre'\n",
    "\n",
    "advGivenFe = ctable['adventure movies'][0] / ctable['All'][0]\n",
    "\n",
    "advGivenM = ctable['adventure movies'][1] / ctable['All'][1]\n",
    "\n",
    "dif = advGivenFe-advGivenM\n",
    "\n",
    "print('The probability that the movie is an adventure given that the director Gender is female is',advGivenFe)\n",
    "print('The probability that the movie is an adventure given that the director Gender is male is',advGivenM)\n",
    "print('The difference is',dif)"
   ]
  },
  {
   "cell_type": "markdown",
   "metadata": {},
   "source": [
    "### Question 3 - Define a function that calculates the difference in average income by gender (10pts)\n",
    "Write a function (e.g., https://www.tutorialspoint.com/python/python_functions.htm) that takes the data frame as an input and returns the difference between the average income of male directors in adventure and the average income of female directors in adventure."
   ]
  },
  {
   "cell_type": "code",
   "execution_count": 81,
   "metadata": {},
   "outputs": [
    {
     "data": {
      "text/plain": [
       "0.6390446473389162"
      ]
     },
     "execution_count": 81,
     "metadata": {},
     "output_type": "execute_result"
    }
   ],
   "source": [
    "def avgIncomeByGender(df):\n",
    "    dfg = df.groupby('dirGender')\n",
    "    return dfg['dirIncome'].mean()[1] - dfg['dirIncome'].mean()[0]\n",
    "    \n",
    "avgIncomeByGender(df)"
   ]
  },
  {
   "cell_type": "markdown",
   "metadata": {},
   "source": [
    "## Task 2: Perform a permutation test (60pts)\n",
    "### Question 1 (10pts)\n",
    "Written answer: We want to test the hypothesis that female directors of adventure movies earn less, on average, than male directors of adventure movies. What is the Null-hypothesis we need to consider? "
   ]
  },
  {
   "cell_type": "markdown",
   "metadata": {},
   "source": [
    "> The null hypothesis, H0, would be that the average income of female directors of adventure movies is equal to the average income of male directors of adventure movies."
   ]
  },
  {
   "cell_type": "markdown",
   "metadata": {},
   "source": [
    "### Question 2 (40pts)\n",
    "Perform a permutation test. Under the Null-hypothesis the director gender is exchangeable. Write a function that takes the data frame as an input and then randomly permutes the directorGender column. For each iteration, the function then calls the function written for Task1, Q3 to get the test statistic. Each iteration, the test statistic should  be stored in a list. It is important to mention that the gender must be randomly assigned each time prior to calculating the difference of the conditional probabilities. \n",
    "\n",
    "After bulding up the numpy array of test statistics, the function should plot a histogram of the test statistics and mark the value of the empirical test statistics by a vertical line (see https://matplotlib.org/api/_as_gen/matplotlib.axes.Axes.axvline.html). Finally, it should report the p-value. \n",
    "\n",
    "For Pseudo code see lecture. Start with 500 iterations to test your code – for the final result, use 5000 iterations."
   ]
  },
  {
   "cell_type": "code",
   "execution_count": 111,
   "metadata": {},
   "outputs": [
    {
     "name": "stdout",
     "output_type": "stream",
     "text": [
      "The p value is 0.0812\n"
     ]
    },
    {
     "data": {
      "image/png": "[encoded data removed]",
      "text/plain": [
       "<Figure size 432x288 with 1 Axes>"
      ]
     },
     "metadata": {
      "needs_background": "light"
     },
     "output_type": "display_data"
    }
   ],
   "source": [
    "def permTest(df):\n",
    "    numIter = 5000\n",
    "    array = np.zeros(numIter)\n",
    "    y = avgIncomeByGender(df)\n",
    "    for i in range(numIter):\n",
    "        df_copy = df.copy()\n",
    "        shuff_var = np.random.randint(2, size=len(df_copy.index))\n",
    "        df_copy[\"dirGender\"] = shuff_var\n",
    "        testStat = avgIncomeByGender(df_copy)\n",
    "        array[i] = testStat\n",
    "    plt.hist(array)\n",
    "    plt.axvline(y,color='Red')\n",
    "    print('The p value is',sum(array>=y)/len(array))\n",
    "    \n",
    "permTest(df)"
   ]
  },
  {
   "cell_type": "markdown",
   "metadata": {},
   "source": [
    "### Question 3 (10pts)\n",
    "Written response: What do you conclude from this result?\n"
   ]
  },
  {
   "cell_type": "markdown",
   "metadata": {},
   "source": [
    "> At a traditional significance level of 0.05, we cannot reject the null hypothesis as the p value is greater than 0.05, so we cannot conclude that male directors of adventure movies make more than female. If we take a signifance level of 0.1 (or any significance level above 0.0812), the null hypothesis would be rejected and we could conclude that the male directors do make more."
   ]
  }
 ],
 "metadata": {
  "kernelspec": {
   "display_name": "Python 3 (ipykernel)",
   "language": "python",
   "name": "python3"
  },
  "language_info": {
   "codemirror_mode": {
    "name": "ipython",
    "version": 3
   },
   "file_extension": ".py",
   "mimetype": "text/x-python",
   "name": "python",
   "nbconvert_exporter": "python",
   "pygments_lexer": "ipython3",
   "version": "3.9.7"
  }
 },
 "nbformat": 4,
 "nbformat_minor": 2
}
